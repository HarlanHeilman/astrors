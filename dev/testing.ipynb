{
 "cells": [
  {
   "cell_type": "code",
   "execution_count": 1,
   "metadata": {},
   "outputs": [],
   "source": [
    "from astropy.io import fits\n",
    "from astropy.table import Table"
   ]
  },
  {
   "cell_type": "code",
   "execution_count": 21,
   "metadata": {},
   "outputs": [],
   "source": [
    "hdus = fits.open(\"../tests/data/EUVEngc4151imgx.fits\")"
   ]
  },
  {
   "cell_type": "code",
   "execution_count": 23,
   "metadata": {},
   "outputs": [
    {
     "data": {
      "text/plain": [
       "XTENSION= 'BINTABLE'           / Binary table extension                         \n",
       "BITPIX  =                    8 / 8-bit bytes                                    \n",
       "NAXIS   =                    2 / 2-dimensional binary table                     \n",
       "NAXIS1  =                   20 / Width of table in bytes                        \n",
       "NAXIS2  =                    2 / The number of rows                             \n",
       "PCOUNT  =                    0 / Size of special data area                      \n",
       "GCOUNT  =                    1 / Only one group                                 \n",
       "TFIELDS =                    3 / Number of fields per row                       \n",
       "EXTNAME = 'mw_limits'          / Name of table                                  \n",
       "                                                                                \n",
       "TTYPE1  = 'NAME    '           / Name of limited value                          \n",
       "TFORM1  = '12A     '           /                                                \n",
       "TUNIT1  = '        '           /                                                \n",
       "TDISP1  = 'A       '           / %s                                             \n",
       "                                                                                \n",
       "TTYPE2  = 'LOW     '           / Lower limit                                    \n",
       "TFORM2  = '1E      '           /                                                \n",
       "TUNIT2  = 'UNKNOWN '           /                                                \n",
       "TDISP2  = 'G15.7   '           / %15.7g                                         \n",
       "                                                                                \n",
       "TTYPE3  = 'HIGH    '           / Upper limit                                    \n",
       "TFORM3  = '1E      '           /                                                \n",
       "TUNIT3  = 'UNKNOWN '           /                                                \n",
       "TDISP3  = 'G15.7   '           / %15.7g                                         \n",
       "                                                                                \n",
       "ORIGIN  = 'CEA/SSL UC Berkeley' / EUVE Science Archive                          \n",
       "CREATOR = 'STWFITS '           / Fitsio version 11-May-1995                     \n",
       "TELESCOP= 'EUVE    '           / Extreme Ultraviolet Explorer                   \n",
       "INSTTYPE= 'DS/S    '           / Instrument type (DS/S, SCANNER)                \n",
       "INSTRUME= 'DS/S    '           / Deep Survey - Spectrometer                     \n",
       "DETNAM  = 'MW      '           / Medium Wavelength Spectrometer                 \n",
       "OBJECT  = 'NGC 4151'           / Name of observed object                        \n",
       "RA_OBJ  =    182.6354540000005 / R.A. of the object (degrees)                   \n",
       "DEC_OBJ =    39.40572800000015 / Declination of the object (degrees)            \n",
       "RA_PNT  =    182.9880000000006 / R.A. of the pointing direction (degrees)       \n",
       "DEC_PNT =              39.5477 / Declination of the pointing direction (degrees)\n",
       "RA_PROC =    182.6379100000007 / R.A. used to process data (degrees)            \n",
       "DEC_PROC=             39.41343 / Declination used to process data (degrees)     \n",
       "OBSERVER= 'A. A. Zdziarski'    / Original observing P.I. (EUVE = calibration)   \n",
       "DATE-OBS= '30/04/97 GMT'       / Start date of observation (dd/mm/yy) 19yy      \n",
       "TIME-OBS= '23:51:30 GMT'       / Start time of observation (hh:mm:ss GMT)       \n",
       "DATE-END= '07/05/97 GMT'       / End date of observation (dd/mm/yy) 19yy        \n",
       "TIME-END= '09:34:27 GMT'       / End time of observation (hh:mm:ss GMT)         \n",
       "OBS_MODE= 'POINTING'           / Inertial pointing mode                         \n",
       "DITHER  = 'NONE    '           / Spacecraft dither type (DITHERED, SPIRAL, NONE)\n",
       "DETMODE = 'WSZ     '           / Detector position conversion mode (WSZ or XY)  \n",
       "OFF-AXIS=                    T / Was this pointing done off-axis                \n",
       "MOVING  =                    F / Did the source position vary during observation\n",
       "DAYNIGHT= 'NIGHT   '           / Day/night data indicator (DAY, NIGHT, BOTH)    \n",
       "VALIDTIM=    201378.8129577704 / Amount of telemetry present (seconds)          \n",
       "RA_UNIT = 'deg     '           / Units for Right Ascension                      \n",
       "DEC_UNIT= 'deg     '           / Units for Declination                          \n",
       "EQUINOX =                2000. / Coordinate equinox                             \n",
       "RADECSYS= 'FK5     '           / Frame of reference of coordinates              \n",
       "TIMESYS = 'MJD     '           / MJD = JD - 2400000.5                           \n",
       "TIMEZERO=                   0. / No time offset required for EUVE event times   \n",
       "TIMEUNIT= 's       '           / Units for TSTART, TSTOP, TIMEZERO              \n",
       "CLOCKCOR= 'NO      '           / Not corrected to UT                            \n",
       "TIMEREF = 'LOCAL   '           / No corrections applied (barycentric, etc.)     \n",
       "TASSIGN = 'SATELLITE'          / Event times are assigned at the satellite      \n",
       "TSTART  =    913161090.0480012 / Time of start of observation (seconds)         \n",
       "TSTOP   =    913714467.8400012 / Time of end of observation (seconds)           \n",
       "MJDREF  =               40000. / MJD of SC clock start, 24.00 May 1968          \n",
       "EGOCSVER= 'egocs1.7.1'         / Software version used to produce this data     \n",
       "REFVERS = 'egodata1.15.1'      / Reference calibration dataset version used     \n",
       "INHERIT =                    F / Do not inherit cards from the primary header   \n",
       "COMMENT     ' '                                                                 \n",
       "COMMENT     'This table contains the limits used to filter the Medium'          \n",
       "COMMENT     'Wavelength spectrometer image for this observation.'               \n",
       "COMMENT     'The image is in the extension named \"mw\" in this file.'            \n",
       "COMMENT     ' '                                                                 "
      ]
     },
     "execution_count": 23,
     "metadata": {},
     "output_type": "execute_result"
    }
   ],
   "source": [
    "hdus[3].header"
   ]
  },
  {
   "cell_type": "code",
   "execution_count": 18,
   "metadata": {},
   "outputs": [
    {
     "data": {
      "text/html": [
       "<div><i>Table length=2</i>\n",
       "<table id=\"table4712065152\" class=\"table-striped table-bordered table-condensed\">\n",
       "<thead><tr><th>NAME</th><th>LOW</th></tr></thead>\n",
       "<thead><tr><th>bytes13</th><th>float32</th></tr></thead>\n",
       "<tr><td>swadct</td><td>3.0</td></tr>\n",
       "<tr><td>B lookzen</td><td>1.3563156e-19</td></tr>\n",
       "</table></div>"
      ],
      "text/plain": [
       "<Table length=2>\n",
       "     NAME          LOW     \n",
       "   bytes13       float32   \n",
       "------------- -------------\n",
       "swadct                  3.0\n",
       " B \u0000\u0000lookzen  1.3563156e-19"
      ]
     },
     "execution_count": 18,
     "metadata": {},
     "output_type": "execute_result"
    }
   ],
   "source": [
    "Table.read(\"../tests/data/outputs/EUVEngc4151imgx_written_by_astrors.fits\", hdu=2)"
   ]
  },
  {
   "cell_type": "code",
   "execution_count": 17,
   "metadata": {},
   "outputs": [
    {
     "data": {
      "text/html": [
       "<div><i>Table length=2</i>\n",
       "<table id=\"table4394308896\" class=\"table-striped table-bordered table-condensed\">\n",
       "<thead><tr><th>NAME</th><th>LOW</th><th>HIGH</th></tr></thead>\n",
       "<thead><tr><th></th><th>UNKNOWN</th><th>UNKNOWN</th></tr></thead>\n",
       "<thead><tr><th>bytes12</th><th>float32</th><th>float32</th></tr></thead>\n",
       "<tr><td>swadct</td><td>3</td><td>80</td></tr>\n",
       "<tr><td>lookzen</td><td>0</td><td>102</td></tr>\n",
       "</table></div>"
      ],
      "text/plain": [
       "<Table length=2>\n",
       "    NAME           LOW             HIGH     \n",
       "                 UNKNOWN         UNKNOWN    \n",
       "  bytes12        float32         float32    \n",
       "------------ --------------- ---------------\n",
       "swadct                     3              80\n",
       "lookzen                    0             102"
      ]
     },
     "execution_count": 17,
     "metadata": {},
     "output_type": "execute_result"
    }
   ],
   "source": [
    "Table.read(\"../tests/data/EUVEngc4151imgx.fits\", hdu=2)"
   ]
  },
  {
   "cell_type": "code",
   "execution_count": 4,
   "metadata": {},
   "outputs": [],
   "source": [
    "bytes = open(\"../tests/data/EUVEngc4151imgx.fits\", \"rb\").read()"
   ]
  },
  {
   "cell_type": "code",
   "execution_count": 5,
   "metadata": {},
   "outputs": [],
   "source": [
    "def get_first_header_size(bytes):\n",
    "    # Header may be multiple of 2880 bytes, get the size of the header until the block where the END card is present\n",
    "    header_size = 0\n",
    "    while True:\n",
    "        header_size += 2880\n",
    "        if b\"END     \" in bytes[header_size:header_size + 2880]:\n",
    "            header_size += 2880\n",
    "            break\n",
    "        \n",
    "    return header_size\n"
   ]
  },
  {
   "cell_type": "code",
   "execution_count": 6,
   "metadata": {},
   "outputs": [],
   "source": [
    "def get_data_size_in_bytes(header):\n",
    "    ## It may have multiple NAXISn keywords, so we need to get the product of all of them\n",
    "    size_in_bytes = 1\n",
    "    for i in range(1, header[\"NAXIS\"] + 1):\n",
    "        size_in_bytes *= header[\"NAXIS\" + str(i)]\n",
    "    \n",
    "    size_in_bytes *= abs(header[\"BITPIX\"] / 8)\n",
    "    ## Make it multiple of 2880 bytes\n",
    "    if size_in_bytes % 2880 != 0:\n",
    "        size_in_bytes += 2880 - (size_in_bytes % 2880)\n",
    "    \n",
    "    return int(size_in_bytes)\n",
    "    "
   ]
  },
  {
   "cell_type": "code",
   "execution_count": null,
   "metadata": {},
   "outputs": [],
   "source": []
  },
  {
   "cell_type": "code",
   "execution_count": null,
   "metadata": {},
   "outputs": [],
   "source": []
  },
  {
   "cell_type": "code",
   "execution_count": null,
   "metadata": {},
   "outputs": [],
   "source": []
  },
  {
   "cell_type": "code",
   "execution_count": 25,
   "metadata": {},
   "outputs": [],
   "source": [
    "second_hdus_start = get_first_header_size(bytes) + get_data_size_in_bytes(hdus[0].header)\n",
    "second_hdu_bytes = bytes[second_hdus_start:]"
   ]
  },
  {
   "cell_type": "code",
   "execution_count": 27,
   "metadata": {},
   "outputs": [
    {
     "data": {
      "text/plain": [
       "b'RA_PROC =    182.6379100000007 / R.A. used to process data (degrees)            DEC_PROC=             39.41343 / Declination used to process data (degrees)     OBSERVER= \\'A. A. Zdziarski\\'    / Original observing P.I. (EUVE = calibration)   DATE-OBS= \\'30/04/97 GMT\\'       / Start date of observation (dd/mm/yy) 19yy      TIME-OBS= \\'23:51:30 GMT\\'       / Start time of observation (hh:mm:ss GMT)       DATE-END= \\'07/05/97 GMT\\'       / End date of observation (dd/mm/yy) 19yy        TIME-END= \\'09:34:27 GMT\\'       / End time of observation (hh:mm:ss GMT)         OBS_MODE= \\'POINTING\\'           / Inertial pointing mode                         DITHER  = \\'NONE    \\'           / Spacecraft dither type (DITHERED, SPIRAL, NONE)DETMODE = \\'WSZ     \\'           / Detector position conversion mode (WSZ or XY)  OFF-AXIS=                    T / Was this pointing done off-axis                MOVING  =                    F / Did the source position vary during observationDAYNIGHT= \\'NIGHT   \\'           / Day/night data indicator (DAY, NIGHT, BOTH)    VALIDTIM=    201378.8129577704 / Amount of telemetry present (seconds)          RA_UNIT = \\'deg     \\'           / Units for Right Ascension                      DEC_UNIT= \\'deg     \\'           / Units for Declination                          EQUINOX =                2000. / Coordinate equinox                             RADECSYS= \\'FK5     \\'           / Frame of reference of coordinates              TIMESYS = \\'MJD     \\'           / MJD = JD - 2400000.5                           TIMEZERO=                   0. / No time offset required for EUVE event times   TIMEUNIT= \\'s       \\'           / Units for TSTART, TSTOP, TIMEZERO              CLOCKCOR= \\'NO      \\'           / Not corrected to UT                            TIMEREF = \\'LOCAL   \\'           / No corrections applied (barycentric, etc.)     TASSIGN = \\'SATELLITE\\'          / Event times are assigned at the satellite      TSTART  =    913161090.0480012 / Time of start of observation (seconds)         TSTOP   =    913714467.8400012 / Time of end of observation (seconds)           MJDREF  =               40000. / MJD of SC clock start, 24.00 May 1968          EGOCSVER= \\'egocs1.7.1\\'         / Software version used to produce this data     REFVERS = \\'egodata1.15.1\\'      / Reference calibration dataset version used     INHERIT =                    F / Do not inherit cards from the primary header   COMMENT     \\' \\'                                                                 COMMENT     \\'This table contains the limits used to filter the Deep Survey\\'     COMMENT     \\'image for this observation. The image is in the extension\\'         COMMENT     \\'named \"ds\" in this file.\\'                                          COMMENT     \\' \\'                                                                 END                                                                             dsq1sf  \\x00\\x00\\x00\\x00BH\\x00\\x00dsadct  @@\\x00\\x00E\\x9c@\\x00lookzen \\x00\\x00\\x00\\x00B\\xcc\\x00\\x00\\x00\\x00\\x00\\x00\\x00\\x00\\x00\\x00\\x00\\x00\\x00\\x00\\x00\\x00\\x00\\x00\\x00\\x00\\x00\\x00\\x00\\x00\\x00\\x00\\x00\\x00\\x00\\x00\\x00\\x00\\x00\\x00\\x00\\x00\\x00\\x00\\x00\\x00\\x00\\x00\\x00\\x00\\x00\\x00\\x00\\x00\\x00\\x00\\x00\\x00\\x00\\x00\\x00\\x00\\x00\\x00\\x00\\x00\\x00\\x00\\x00\\x00\\x00\\x00\\x00\\x00\\x00\\x00\\x00\\x00\\x00\\x00\\x00\\x00\\x00\\x00\\x00\\x00\\x00\\x00\\x00\\x00\\x00\\x00\\x00\\x00\\x00\\x00\\x00\\x00\\x00\\x00\\x00\\x00\\x00\\x00\\x00\\x00\\x00\\x00\\x00\\x00\\x00\\x00\\x00\\x00\\x00\\x00\\x00\\x00\\x00\\x00\\x00\\x00\\x00\\x00\\x00\\x00\\x00\\x00\\x00\\x00\\x00\\x00\\x00\\x00\\x00\\x00\\x00\\x00\\x00\\x00\\x00\\x00\\x00\\x00\\x00\\x00\\x00\\x00\\x00\\x00\\x00\\x00\\x00\\x00\\x00\\x00\\x00\\x00\\x00\\x00\\x00\\x00\\x00\\x00\\x00\\x00\\x00\\x00\\x00\\x00\\x00\\x00\\x00\\x00\\x00\\x00\\x00\\x00\\x00\\x00\\x00\\x00\\x00\\x00\\x00\\x00\\x00\\x00\\x00\\x00\\x00\\x00\\x00\\x00\\x00\\x00\\x00\\x00\\x00\\x00\\x00\\x00\\x00\\x00\\x00\\x00\\x00\\x00\\x00\\x00\\x00\\x00\\x00\\x00\\x00\\x00\\x00\\x00\\x00\\x00\\x00\\x00\\x00\\x00\\x00\\x00\\x00\\x00\\x00\\x00\\x00\\x00\\x00\\x00\\x00\\x00\\x00\\x00\\x00\\x00\\x00\\x00\\x00\\x00\\x00\\x00\\x00\\x00\\x00\\x00\\x00\\x00\\x00\\x00\\x00\\x00\\x00\\x00\\x00\\x00\\x00\\x00\\x00\\x00\\x00\\x00\\x00\\x00\\x00\\x00\\x00\\x00\\x00\\x00\\x00\\x00\\x00\\x00\\x00\\x00\\x00\\x00\\x00\\x00\\x00\\x00\\x00\\x00\\x00\\x00\\x00\\x00\\x00\\x00\\x00\\x00\\x00\\x00\\x00\\x00\\x00\\x00\\x00\\x00\\x00\\x00\\x00\\x00\\x00\\x00\\x00\\x00\\x00\\x00\\x00\\x00\\x00\\x00\\x00\\x00\\x00\\x00\\x00\\x00\\x00\\x00\\x00\\x00\\x00\\x00\\x00\\x00\\x00\\x00\\x00\\x00\\x00\\x00\\x00\\x00\\x00\\x00\\x00\\x00\\x00\\x00\\x00\\x00\\x00\\x00\\x00\\x00\\x00\\x00\\x00\\x00\\x00\\x00\\x00\\x00\\x00\\x00\\x00\\x00\\x00\\x00\\x00\\x00\\x00\\x00\\x00\\x00\\x00\\x00\\x00\\x00\\x00\\x00\\x00\\x00\\x00\\x00\\x00\\x00\\x00\\x00\\x00\\x00\\x00\\x00\\x00\\x00\\x00\\x00\\x00\\x00\\x00\\x00\\x00\\x00\\x00\\x00\\x00\\x00\\x00\\x00\\x00\\x00\\x00\\x00\\x00\\x00\\x00\\x00\\x00\\x00\\x00\\x00\\x00\\x00\\x00\\x00\\x00\\x00\\x00\\x00\\x00\\x00\\x00\\x00\\x00\\x00\\x00\\x00\\x00\\x00\\x00\\x00\\x00\\x00\\x00\\x00\\x00\\x00\\x00\\x00\\x00\\x00\\x00\\x00\\x00\\x00\\x00\\x00\\x00\\x00\\x00\\x00\\x00\\x00\\x00\\x00\\x00\\x00\\x00\\x00\\x00\\x00\\x00\\x00\\x00\\x00\\x00\\x00\\x00\\x00\\x00\\x00\\x00\\x00\\x00\\x00\\x00\\x00\\x00\\x00\\x00\\x00\\x00\\x00\\x00\\x00\\x00\\x00\\x00\\x00\\x00\\x00\\x00\\x00\\x00\\x00\\x00\\x00\\x00\\x00\\x00\\x00\\x00\\x00\\x00\\x00\\x00\\x00\\x00\\x00\\x00\\x00\\x00\\x00\\x00\\x00\\x00\\x00\\x00\\x00\\x00\\x00\\x00\\x00\\x00\\x00\\x00\\x00\\x00\\x00\\x00\\x00\\x00\\x00\\x00\\x00\\x00\\x00\\x00\\x00\\x00\\x00\\x00\\x00\\x00\\x00\\x00\\x00\\x00\\x00\\x00\\x00\\x00\\x00\\x00\\x00\\x00\\x00\\x00\\x00\\x00\\x00\\x00\\x00\\x00\\x00\\x00\\x00\\x00\\x00\\x00\\x00\\x00\\x00\\x00\\x00\\x00\\x00\\x00\\x00\\x00\\x00\\x00\\x00\\x00\\x00\\x00\\x00\\x00\\x00\\x00\\x00\\x00\\x00\\x00\\x00\\x00\\x00\\x00\\x00\\x00\\x00\\x00\\x00\\x00\\x00\\x00\\x00\\x00\\x00\\x00\\x00\\x00\\x00\\x00\\x00\\x00\\x00\\x00\\x00\\x00\\x00\\x00\\x00\\x00\\x00\\x00\\x00\\x00\\x00\\x00\\x00\\x00\\x00\\x00\\x00\\x00\\x00\\x00\\x00\\x00\\x00\\x00\\x00\\x00\\x00\\x00\\x00\\x00\\x00\\x00\\x00\\x00\\x00\\x00\\x00\\x00\\x00\\x00\\x00\\x00\\x00\\x00\\x00\\x00\\x00\\x00\\x00\\x00\\x00\\x00\\x00\\x00\\x00\\x00\\x00\\x00\\x00\\x00\\x00\\x00\\x00\\x00\\x00\\x00\\x00\\x00\\x00\\x00\\x00\\x00\\x00\\x00\\x00\\x00\\x00\\x00\\x00\\x00\\x00\\x00\\x00\\x00\\x00\\x00\\x00\\x00\\x00\\x00\\x00\\x00\\x00\\x00\\x00\\x00\\x00\\x00\\x00\\x00\\x00\\x00\\x00\\x00\\x00\\x00\\x00\\x00\\x00\\x00\\x00\\x00\\x00\\x00\\x00\\x00\\x00\\x00\\x00\\x00\\x00\\x00\\x00\\x00\\x00\\x00\\x00\\x00\\x00\\x00\\x00\\x00\\x00\\x00\\x00\\x00\\x00\\x00\\x00\\x00\\x00\\x00\\x00\\x00\\x00\\x00\\x00\\x00\\x00\\x00\\x00\\x00\\x00\\x00\\x00\\x00\\x00\\x00\\x00\\x00\\x00\\x00\\x00\\x00\\x00\\x00\\x00\\x00\\x00\\x00\\x00\\x00\\x00\\x00\\x00\\x00\\x00\\x00\\x00\\x00\\x00\\x00\\x00\\x00\\x00\\x00\\x00\\x00\\x00\\x00\\x00\\x00\\x00\\x00\\x00\\x00\\x00\\x00\\x00\\x00\\x00\\x00\\x00\\x00\\x00\\x00\\x00\\x00\\x00\\x00\\x00\\x00\\x00\\x00\\x00\\x00\\x00\\x00\\x00\\x00\\x00\\x00\\x00\\x00\\x00\\x00\\x00\\x00\\x00\\x00\\x00\\x00\\x00\\x00\\x00\\x00\\x00\\x00\\x00\\x00\\x00\\x00\\x00\\x00\\x00\\x00\\x00\\x00\\x00\\x00\\x00\\x00\\x00\\x00\\x00\\x00\\x00\\x00\\x00\\x00\\x00\\x00\\x00\\x00\\x00\\x00\\x00\\x00\\x00\\x00\\x00\\x00\\x00\\x00\\x00\\x00\\x00\\x00\\x00\\x00\\x00\\x00\\x00\\x00\\x00\\x00\\x00\\x00\\x00\\x00\\x00\\x00\\x00\\x00\\x00\\x00\\x00\\x00\\x00\\x00\\x00\\x00\\x00\\x00\\x00\\x00\\x00\\x00\\x00\\x00\\x00\\x00\\x00\\x00\\x00\\x00\\x00\\x00\\x00\\x00\\x00\\x00\\x00\\x00\\x00\\x00\\x00\\x00\\x00\\x00\\x00\\x00\\x00\\x00\\x00\\x00\\x00\\x00\\x00\\x00\\x00\\x00\\x00\\x00\\x00\\x00\\x00\\x00\\x00\\x00\\x00\\x00\\x00\\x00\\x00\\x00\\x00\\x00\\x00\\x00\\x00\\x00\\x00\\x00\\x00\\x00\\x00\\x00\\x00\\x00\\x00\\x00\\x00\\x00\\x00\\x00\\x00\\x00\\x00\\x00\\x00\\x00\\x00\\x00\\x00\\x00\\x00\\x00\\x00\\x00\\x00\\x00\\x00\\x00\\x00\\x00\\x00\\x00\\x00\\x00\\x00\\x00\\x00\\x00\\x00\\x00\\x00\\x00\\x00\\x00\\x00\\x00\\x00\\x00\\x00\\x00\\x00\\x00\\x00\\x00\\x00\\x00\\x00\\x00\\x00\\x00\\x00\\x00\\x00\\x00\\x00\\x00\\x00\\x00\\x00\\x00\\x00\\x00\\x00\\x00\\x00\\x00\\x00\\x00\\x00\\x00\\x00\\x00\\x00\\x00\\x00\\x00\\x00\\x00\\x00\\x00\\x00\\x00\\x00\\x00\\x00\\x00\\x00\\x00\\x00\\x00\\x00\\x00\\x00\\x00\\x00\\x00\\x00\\x00\\x00\\x00\\x00\\x00\\x00\\x00\\x00\\x00\\x00\\x00\\x00\\x00\\x00\\x00\\x00\\x00\\x00\\x00\\x00\\x00\\x00\\x00\\x00\\x00\\x00\\x00\\x00\\x00\\x00\\x00\\x00\\x00\\x00\\x00\\x00\\x00\\x00\\x00\\x00\\x00\\x00\\x00\\x00\\x00\\x00\\x00\\x00\\x00\\x00\\x00\\x00\\x00\\x00\\x00\\x00\\x00\\x00\\x00\\x00\\x00\\x00\\x00\\x00\\x00\\x00\\x00\\x00\\x00\\x00\\x00\\x00\\x00\\x00\\x00\\x00\\x00\\x00\\x00\\x00\\x00\\x00\\x00\\x00\\x00\\x00\\x00\\x00\\x00\\x00\\x00\\x00\\x00\\x00\\x00\\x00\\x00\\x00\\x00\\x00\\x00\\x00\\x00\\x00\\x00\\x00\\x00\\x00\\x00\\x00\\x00\\x00\\x00\\x00\\x00\\x00\\x00\\x00\\x00\\x00\\x00\\x00\\x00\\x00\\x00\\x00\\x00\\x00\\x00\\x00\\x00\\x00\\x00\\x00\\x00\\x00\\x00\\x00\\x00\\x00\\x00\\x00\\x00\\x00\\x00\\x00\\x00\\x00\\x00\\x00\\x00\\x00\\x00\\x00\\x00\\x00\\x00\\x00\\x00\\x00\\x00\\x00\\x00\\x00\\x00\\x00\\x00\\x00\\x00\\x00\\x00\\x00\\x00\\x00\\x00\\x00\\x00\\x00\\x00\\x00\\x00\\x00\\x00\\x00\\x00\\x00\\x00\\x00\\x00\\x00\\x00\\x00\\x00\\x00\\x00\\x00\\x00\\x00\\x00\\x00\\x00\\x00\\x00\\x00\\x00\\x00\\x00\\x00\\x00\\x00\\x00\\x00\\x00\\x00\\x00\\x00\\x00\\x00\\x00\\x00\\x00\\x00\\x00\\x00\\x00\\x00\\x00\\x00\\x00\\x00\\x00\\x00\\x00\\x00\\x00\\x00\\x00\\x00\\x00\\x00\\x00\\x00\\x00\\x00\\x00\\x00\\x00\\x00\\x00\\x00\\x00\\x00\\x00\\x00\\x00\\x00\\x00\\x00\\x00\\x00\\x00\\x00\\x00\\x00\\x00\\x00\\x00\\x00\\x00\\x00\\x00\\x00\\x00\\x00\\x00\\x00\\x00\\x00\\x00\\x00\\x00\\x00\\x00\\x00\\x00\\x00\\x00\\x00\\x00\\x00\\x00\\x00\\x00\\x00\\x00\\x00\\x00\\x00\\x00\\x00\\x00\\x00\\x00\\x00\\x00\\x00\\x00\\x00\\x00\\x00\\x00\\x00\\x00\\x00\\x00\\x00\\x00\\x00\\x00\\x00\\x00\\x00\\x00\\x00\\x00\\x00\\x00\\x00\\x00\\x00\\x00\\x00\\x00\\x00\\x00\\x00\\x00\\x00\\x00\\x00\\x00\\x00\\x00\\x00\\x00\\x00\\x00\\x00\\x00\\x00\\x00\\x00\\x00\\x00\\x00\\x00\\x00\\x00\\x00\\x00\\x00\\x00\\x00\\x00\\x00\\x00\\x00\\x00\\x00\\x00\\x00\\x00\\x00\\x00\\x00\\x00\\x00\\x00\\x00\\x00\\x00\\x00\\x00\\x00\\x00\\x00\\x00\\x00\\x00\\x00\\x00\\x00\\x00\\x00\\x00\\x00\\x00\\x00\\x00\\x00\\x00\\x00\\x00\\x00\\x00\\x00\\x00\\x00\\x00\\x00\\x00\\x00\\x00\\x00\\x00\\x00\\x00\\x00\\x00\\x00\\x00\\x00\\x00\\x00\\x00\\x00\\x00\\x00\\x00\\x00\\x00\\x00\\x00\\x00\\x00\\x00\\x00\\x00\\x00\\x00\\x00\\x00\\x00\\x00\\x00\\x00\\x00\\x00\\x00\\x00\\x00\\x00\\x00\\x00\\x00\\x00\\x00\\x00\\x00\\x00\\x00\\x00\\x00\\x00\\x00\\x00\\x00\\x00\\x00\\x00\\x00\\x00\\x00\\x00\\x00\\x00\\x00\\x00\\x00\\x00\\x00\\x00\\x00\\x00\\x00\\x00\\x00\\x00\\x00\\x00\\x00\\x00\\x00\\x00\\x00\\x00\\x00\\x00\\x00\\x00\\x00\\x00\\x00\\x00\\x00\\x00\\x00\\x00\\x00\\x00\\x00\\x00\\x00\\x00\\x00\\x00\\x00\\x00\\x00\\x00\\x00\\x00\\x00\\x00\\x00\\x00\\x00\\x00\\x00\\x00\\x00\\x00\\x00\\x00\\x00\\x00\\x00\\x00\\x00\\x00\\x00\\x00\\x00\\x00\\x00\\x00\\x00\\x00\\x00\\x00\\x00\\x00\\x00\\x00\\x00\\x00\\x00\\x00\\x00\\x00\\x00\\x00\\x00\\x00\\x00\\x00\\x00\\x00\\x00\\x00\\x00\\x00\\x00\\x00\\x00\\x00\\x00\\x00\\x00\\x00\\x00\\x00\\x00\\x00\\x00\\x00\\x00\\x00\\x00\\x00\\x00\\x00\\x00\\x00\\x00\\x00\\x00\\x00\\x00\\x00\\x00\\x00\\x00\\x00\\x00\\x00\\x00\\x00\\x00\\x00\\x00\\x00\\x00\\x00\\x00\\x00\\x00\\x00\\x00\\x00\\x00\\x00\\x00\\x00\\x00\\x00\\x00\\x00\\x00\\x00\\x00\\x00\\x00\\x00\\x00\\x00\\x00\\x00\\x00\\x00\\x00\\x00\\x00\\x00\\x00\\x00\\x00\\x00\\x00\\x00\\x00\\x00\\x00\\x00\\x00\\x00\\x00\\x00\\x00\\x00\\x00\\x00\\x00\\x00\\x00\\x00\\x00\\x00\\x00\\x00\\x00\\x00\\x00\\x00\\x00\\x00\\x00\\x00\\x00\\x00\\x00\\x00\\x00\\x00\\x00\\x00\\x00\\x00\\x00\\x00\\x00\\x00\\x00\\x00\\x00\\x00\\x00\\x00\\x00\\x00\\x00\\x00\\x00\\x00\\x00\\x00\\x00\\x00\\x00\\x00\\x00\\x00\\x00\\x00\\x00\\x00\\x00\\x00\\x00\\x00\\x00\\x00\\x00\\x00\\x00\\x00\\x00\\x00\\x00\\x00\\x00\\x00\\x00\\x00\\x00\\x00\\x00\\x00\\x00\\x00\\x00\\x00\\x00\\x00\\x00\\x00\\x00\\x00\\x00\\x00\\x00\\x00\\x00\\x00\\x00\\x00\\x00\\x00\\x00\\x00\\x00\\x00\\x00\\x00\\x00\\x00\\x00\\x00\\x00\\x00\\x00\\x00\\x00\\x00\\x00\\x00\\x00\\x00\\x00\\x00\\x00\\x00\\x00\\x00\\x00\\x00\\x00\\x00\\x00\\x00\\x00\\x00\\x00\\x00\\x00\\x00\\x00\\x00\\x00\\x00\\x00\\x00\\x00\\x00\\x00\\x00\\x00\\x00\\x00\\x00\\x00\\x00\\x00\\x00\\x00\\x00\\x00\\x00\\x00\\x00\\x00\\x00\\x00\\x00\\x00\\x00\\x00\\x00\\x00\\x00\\x00\\x00\\x00\\x00\\x00\\x00\\x00\\x00\\x00\\x00\\x00\\x00\\x00\\x00\\x00\\x00\\x00\\x00\\x00\\x00\\x00\\x00\\x00\\x00\\x00\\x00\\x00\\x00\\x00\\x00\\x00\\x00\\x00\\x00\\x00\\x00\\x00\\x00\\x00\\x00\\x00\\x00\\x00\\x00\\x00\\x00\\x00\\x00\\x00\\x00\\x00\\x00\\x00\\x00\\x00\\x00\\x00\\x00\\x00\\x00\\x00\\x00\\x00\\x00\\x00\\x00\\x00\\x00\\x00\\x00\\x00\\x00\\x00\\x00\\x00\\x00\\x00\\x00\\x00\\x00\\x00\\x00\\x00\\x00\\x00\\x00\\x00\\x00\\x00\\x00\\x00\\x00\\x00\\x00\\x00\\x00\\x00\\x00\\x00\\x00\\x00\\x00\\x00\\x00\\x00\\x00\\x00\\x00\\x00\\x00\\x00\\x00\\x00\\x00\\x00\\x00\\x00\\x00\\x00\\x00\\x00\\x00\\x00\\x00\\x00\\x00\\x00\\x00\\x00\\x00\\x00\\x00\\x00\\x00\\x00\\x00\\x00\\x00\\x00\\x00\\x00\\x00\\x00\\x00\\x00\\x00\\x00\\x00\\x00\\x00\\x00\\x00\\x00\\x00\\x00\\x00\\x00\\x00\\x00\\x00\\x00\\x00\\x00\\x00\\x00\\x00\\x00\\x00\\x00\\x00\\x00\\x00\\x00\\x00\\x00\\x00\\x00\\x00\\x00\\x00\\x00\\x00\\x00\\x00\\x00\\x00\\x00\\x00\\x00\\x00\\x00\\x00\\x00\\x00\\x00\\x00\\x00\\x00\\x00\\x00\\x00\\x00\\x00\\x00\\x00\\x00\\x00\\x00\\x00\\x00\\x00\\x00\\x00\\x00\\x00\\x00\\x00\\x00\\x00\\x00\\x00\\x00\\x00\\x00\\x00\\x00\\x00\\x00\\x00\\x00\\x00\\x00\\x00\\x00\\x00\\x00\\x00\\x00\\x00\\x00\\x00\\x00\\x00\\x00\\x00\\x00\\x00\\x00\\x00\\x00\\x00\\x00\\x00\\x00\\x00\\x00\\x00\\x00\\x00\\x00\\x00\\x00\\x00\\x00\\x00\\x00\\x00\\x00\\x00\\x00\\x00\\x00\\x00\\x00\\x00\\x00\\x00\\x00\\x00\\x00\\x00\\x00\\x00\\x00\\x00\\x00\\x00\\x00\\x00\\x00\\x00\\x00\\x00\\x00\\x00\\x00\\x00\\x00\\x00\\x00\\x00\\x00\\x00\\x00\\x00\\x00\\x00\\x00\\x00\\x00\\x00\\x00\\x00\\x00\\x00\\x00\\x00\\x00\\x00\\x00\\x00\\x00\\x00\\x00\\x00\\x00\\x00\\x00\\x00\\x00\\x00\\x00\\x00\\x00\\x00\\x00\\x00\\x00\\x00\\x00\\x00\\x00\\x00\\x00\\x00\\x00\\x00\\x00\\x00\\x00\\x00\\x00\\x00\\x00\\x00\\x00\\x00\\x00\\x00\\x00\\x00\\x00\\x00\\x00\\x00\\x00\\x00\\x00\\x00\\x00\\x00\\x00\\x00\\x00\\x00\\x00\\x00\\x00\\x00\\x00\\x00\\x00\\x00\\x00\\x00\\x00\\x00\\x00\\x00\\x00\\x00\\x00\\x00\\x00\\x00\\x00\\x00\\x00\\x00\\x00\\x00\\x00\\x00\\x00\\x00\\x00\\x00\\x00\\x00\\x00\\x00\\x00\\x00\\x00\\x00\\x00\\x00\\x00\\x00\\x00\\x00\\x00\\x00\\x00\\x00\\x00\\x00\\x00\\x00\\x00\\x00\\x00\\x00\\x00\\x00\\x00\\x00\\x00\\x00\\x00\\x00\\x00\\x00\\x00\\x00\\x00\\x00\\x00\\x00\\x00\\x00\\x00\\x00\\x00\\x00\\x00\\x00\\x00\\x00\\x00\\x00\\x00\\x00\\x00\\x00\\x00\\x00\\x00\\x00\\x00\\x00\\x00\\x00\\x00\\x00\\x00\\x00\\x00\\x00\\x00\\x00\\x00\\x00\\x00\\x00\\x00\\x00\\x00\\x00\\x00\\x00\\x00\\x00\\x00\\x00\\x00\\x00\\x00\\x00\\x00\\x00\\x00\\x00\\x00\\x00\\x00\\x00\\x00\\x00\\x00\\x00\\x00\\x00\\x00\\x00\\x00\\x00\\x00\\x00\\x00\\x00\\x00\\x00\\x00\\x00\\x00\\x00\\x00\\x00\\x00\\x00\\x00\\x00\\x00\\x00\\x00\\x00\\x00\\x00\\x00\\x00\\x00\\x00\\x00\\x00\\x00\\x00\\x00\\x00\\x00\\x00\\x00\\x00\\x00\\x00\\x00\\x00\\x00\\x00\\x00\\x00\\x00\\x00\\x00\\x00\\x00\\x00\\x00\\x00\\x00\\x00\\x00\\x00\\x00\\x00\\x00\\x00\\x00\\x00\\x00\\x00\\x00\\x00\\x00\\x00\\x00\\x00\\x00\\x00\\x00\\x00\\x00\\x00\\x00\\x00\\x00\\x00\\x00\\x00\\x00\\x00\\x00\\x00\\x00\\x00\\x00\\x00\\x00\\x00\\x00\\x00\\x00\\x00\\x00\\x00\\x00\\x00\\x00\\x00\\x00\\x00\\x00\\x00\\x00\\x00\\x00\\x00\\x00\\x00\\x00\\x00\\x00\\x00\\x00\\x00\\x00\\x00\\x00\\x00\\x00\\x00\\x00\\x00\\x00\\x00\\x00\\x00\\x00\\x00\\x00\\x00\\x00\\x00\\x00\\x00\\x00\\x00\\x00\\x00\\x00\\x00\\x00\\x00\\x00\\x00\\x00\\x00\\x00\\x00\\x00\\x00\\x00\\x00\\x00\\x00\\x00\\x00\\x00\\x00\\x00\\x00\\x00\\x00\\x00\\x00\\x00\\x00\\x00\\x00\\x00\\x00\\x00\\x00\\x00\\x00\\x00\\x00\\x00\\x00\\x00\\x00\\x00\\x00\\x00\\x00\\x00\\x00\\x00\\x00\\x00\\x00\\x00\\x00\\x00\\x00\\x00\\x00\\x00\\x00\\x00\\x00\\x00\\x00\\x00\\x00\\x00\\x00\\x00\\x00\\x00\\x00\\x00\\x00\\x00\\x00\\x00\\x00\\x00\\x00\\x00\\x00\\x00\\x00\\x00\\x00\\x00\\x00\\x00\\x00\\x00\\x00\\x00\\x00\\x00\\x00\\x00\\x00\\x00\\x00\\x00\\x00\\x00\\x00\\x00\\x00\\x00\\x00\\x00\\x00\\x00\\x00\\x00\\x00\\x00\\x00\\x00\\x00\\x00\\x00\\x00\\x00\\x00\\x00\\x00\\x00\\x00\\x00\\x00\\x00\\x00\\x00\\x00\\x00\\x00\\x00\\x00\\x00\\x00\\x00\\x00\\x00\\x00\\x00\\x00\\x00\\x00\\x00\\x00\\x00\\x00\\x00\\x00\\x00\\x00\\x00\\x00\\x00\\x00\\x00\\x00\\x00\\x00\\x00\\x00\\x00\\x00\\x00\\x00\\x00\\x00\\x00\\x00\\x00\\x00\\x00\\x00\\x00\\x00\\x00\\x00\\x00\\x00\\x00\\x00\\x00\\x00\\x00\\x00\\x00\\x00\\x00\\x00\\x00\\x00\\x00\\x00\\x00\\x00\\x00\\x00\\x00\\x00\\x00\\x00\\x00\\x00\\x00\\x00\\x00\\x00\\x00\\x00\\x00\\x00\\x00\\x00\\x00\\x00\\x00\\x00\\x00\\x00\\x00\\x00\\x00\\x00\\x00\\x00\\x00\\x00\\x00\\x00\\x00\\x00\\x00\\x00\\x00\\x00\\x00\\x00\\x00\\x00\\x00\\x00\\x00\\x00\\x00\\x00\\x00\\x00\\x00\\x00XTENSION= \\'BINTABLE\\'           / Binary table extension                         BITPIX  =                    8 / 8-bit bytes                                    NAXIS   =                    2 / 2-dimensional binary table                     NAXIS1  =                   20 / Width of table in bytes                        NAXIS2  =                    2 / The number of rows                             PCOUNT  =                    0 / Size of special data area                      GCOUNT  =                    1 / Only one group                                 TFIELDS =                    3 / Number of fields per row                       EXTNAME = \\'sw_night_limits\\'    / Name of table                                                                                                                  TTYPE1  = \\'NAME    \\'           / Name of limited value                          TFORM1  = \\'12A     \\'           /                                                TUNIT1  = \\'        \\'           /                                                TDISP1  = \\'A       \\'           / %s                                                                                                                             TTYPE2  = \\'LOW     \\'           / Lower limit                                    TFORM2  = \\'1E      \\'           /                                                TUNIT2  = \\'UNKNOWN \\'           /                                                TDISP2  = \\'G15.7   \\'           / %15.7g                                                                                                                         TTYPE3  = \\'HIGH    \\'           / Upper limit                                    TFORM3  = \\'1E      \\'           /                                                TUNIT3  = \\'UNKNOWN \\'           /                                                TDISP3  = \\'G15.7   \\'           / %15.7g                                                                                                                         ORIGIN  = \\'CEA/SSL UC Berkeley\\' / EUVE Science Archive                          CREATOR = \\'STWFITS \\'           / Fitsio version 11-May-1995                     TELESCOP= \\'EUVE    \\'           / Extreme Ultraviolet Explorer                   INSTTYPE= \\'DS/S    \\'           / Instrument type (DS/S, SCANNER)                INSTRUME= \\'DS/S    \\'           / Deep Survey - Spectrometer                     DETNAM  = \\'SW      \\'           / Short Wavelength Spectrometer                  OBJECT  = \\'NGC 4151\\'           / Name of observed object                        RA_OBJ  =    182.6354540000005 / R.A. of the object (degrees)                   DEC_OBJ =    39.40572800000015 / Declination of the object (degrees)            RA_PNT  =    182.9880000000006 / R.A. of the pointing direction (degrees)       DEC_PNT =              39.5477 / Declination of the pointing direction (degrees)RA_PROC =    182.6379100000007 / R.A. used to process data (degrees)            DEC_PROC=             39.41343 / Declination used to process data (degrees)     OBSERVER= \\'A. A. Zdziarski\\'    / Original observing P.I. (EUVE = calibration)   DATE-OBS= \\'30/04/97 GMT\\'       / Start date of observation (dd/mm/yy) 19yy      TIME-OBS= \\'23:51:30 GMT\\'       / Start time of observation (hh:mm:ss GMT)       DATE-END= \\'07/05/97 GMT\\'       / End date of observation (dd/mm/yy) 19yy        TIME-END= \\'09:34:27 GMT\\'       / End time of observation (hh:mm:ss GMT)         OBS_MODE= \\'POINTING\\'           / Inertial pointing mode                         DITHER  = \\'NONE    \\'           / Spacecraft dither type (DITHERED, SPIRAL, NONE)DETMODE = \\'WSZ     \\'           / Detector position conversion mode (WSZ or XY)  OFF-AXIS=                    T / Was this pointing done off-axis                MOVING  =                    F / Did the source position vary during observationDAYNIGHT= \\'NIGHT   \\'           / Day/night data indicator (DAY, NIGHT, BOTH)    VALIDTIM=    201378.8129577704 / Amount of telemetry present (seconds)          RA_UNIT = \\'deg     \\'           / Units for Right Ascension                      DEC_UNIT= \\'deg     \\'           / Units for Declination                          EQUINOX =                2000. / Coordinate equinox                             RADECSYS= \\'FK5     \\'           / Frame of reference of coordinates              TIMESYS = \\'MJD     \\'           / MJD = JD - 2400000.5                           TIMEZERO=                   0. / No time offset required for EUVE event times   TIMEUNIT= \\'s       \\'           / Units for TSTART, TSTOP, TIMEZERO              CLOCKCOR= \\'NO      \\'           / Not corrected to UT                            TIMEREF = \\'LOCAL   \\'           / No corrections applied (barycentric, etc.)     TASSIGN = \\'SATELLITE\\'          / Event times are assigned at the satellite      TSTART  =    913161090.0480012 / Time of start of observation (seconds)         TSTOP   =    913714467.8400012 / Time of end of observation (seconds)           MJDREF  =               40000. / MJD of SC clock start, 24.00 May 1968          EGOCSVER= \\'egocs1.7.1\\'         / Software version used to produce this data     REFVERS = \\'egodata1.15.1\\'      / Reference calibration dataset version used     INHERIT =                    F / Do not inherit cards from the primary header   COMMENT     \\' \\'                                                                 COMMENT     \\'This table contains the limits used to filter the Short\\'           COMMENT     \\'Wavelength spectrometer nighttime image for this observation.\\'     COMMENT     \\'The image is in the extension named \"sw_night\" in this file.\\'      COMMENT     \\' \\'                                                                 END                                                                             swadct      @@\\x00\\x00B\\xa0\\x00\\x00lookzen     \\x00\\x00\\x00\\x00B\\xcc\\x00\\x00\\x00\\x00\\x00\\x00\\x00\\x00\\x00\\x00\\x00\\x00\\x00\\x00\\x00\\x00\\x00\\x00\\x00\\x00\\x00\\x00\\x00\\x00\\x00\\x00\\x00\\x00\\x00\\x00\\x00\\x00\\x00\\x00\\x00\\x00\\x00\\x00\\x00\\x00\\x00\\x00\\x00\\x00\\x00\\x00\\x00\\x00\\x00\\x00\\x00\\x00\\x00\\x00\\x00\\x00\\x00\\x00\\x00\\x00\\x00\\x00\\x00\\x00\\x00\\x00\\x00\\x00\\x00\\x00\\x00\\x00\\x00\\x00\\x00\\x00\\x00\\x00\\x00\\x00\\x00\\x00\\x00\\x00\\x00\\x00\\x00\\x00\\x00\\x00\\x00\\x00\\x00\\x00\\x00\\x00\\x00\\x00\\x00\\x00\\x00\\x00\\x00\\x00\\x00\\x00\\x00\\x00\\x00\\x00\\x00\\x00\\x00\\x00\\x00\\x00\\x00\\x00\\x00\\x00\\x00\\x00\\x00\\x00\\x00\\x00\\x00\\x00\\x00\\x00\\x00\\x00\\x00\\x00\\x00\\x00\\x00\\x00\\x00\\x00\\x00\\x00\\x00\\x00\\x00\\x00\\x00\\x00\\x00\\x00\\x00\\x00\\x00\\x00\\x00\\x00\\x00\\x00\\x00\\x00\\x00\\x00\\x00\\x00\\x00\\x00\\x00\\x00\\x00\\x00\\x00\\x00\\x00\\x00\\x00\\x00\\x00\\x00\\x00\\x00\\x00\\x00\\x00\\x00\\x00\\x00\\x00\\x00\\x00\\x00\\x00\\x00\\x00\\x00\\x00\\x00\\x00\\x00\\x00\\x00\\x00\\x00\\x00\\x00\\x00\\x00\\x00\\x00\\x00\\x00\\x00\\x00\\x00\\x00\\x00\\x00\\x00\\x00\\x00\\x00\\x00\\x00\\x00\\x00\\x00\\x00\\x00\\x00\\x00\\x00\\x00\\x00\\x00\\x00\\x00\\x00\\x00\\x00\\x00\\x00\\x00\\x00\\x00\\x00\\x00\\x00\\x00\\x00\\x00\\x00\\x00\\x00\\x00\\x00\\x00\\x00\\x00\\x00\\x00\\x00\\x00\\x00\\x00\\x00\\x00\\x00\\x00\\x00\\x00\\x00\\x00\\x00\\x00\\x00\\x00\\x00\\x00\\x00\\x00\\x00\\x00\\x00\\x00\\x00\\x00\\x00\\x00\\x00\\x00\\x00\\x00\\x00\\x00\\x00\\x00\\x00\\x00\\x00\\x00\\x00\\x00\\x00\\x00\\x00\\x00\\x00\\x00\\x00\\x00\\x00\\x00\\x00\\x00\\x00\\x00\\x00\\x00\\x00\\x00\\x00\\x00\\x00\\x00\\x00\\x00\\x00\\x00\\x00\\x00\\x00\\x00\\x00\\x00\\x00\\x00\\x00\\x00\\x00\\x00\\x00\\x00\\x00\\x00\\x00\\x00\\x00\\x00\\x00\\x00\\x00\\x00\\x00\\x00\\x00\\x00\\x00\\x00\\x00\\x00\\x00\\x00\\x00\\x00\\x00\\x00\\x00\\x00\\x00\\x00\\x00\\x00\\x00\\x00\\x00\\x00\\x00\\x00\\x00\\x00\\x00\\x00\\x00\\x00\\x00\\x00\\x00\\x00\\x00\\x00\\x00\\x00\\x00\\x00\\x00\\x00\\x00\\x00\\x00\\x00\\x00\\x00\\x00\\x00\\x00\\x00\\x00\\x00\\x00\\x00\\x00\\x00\\x00\\x00\\x00\\x00\\x00\\x00\\x00\\x00\\x00\\x00\\x00\\x00\\x00\\x00\\x00\\x00\\x00\\x00\\x00\\x00\\x00\\x00\\x00\\x00\\x00\\x00\\x00\\x00\\x00\\x00\\x00\\x00\\x00\\x00\\x00\\x00\\x00\\x00\\x00\\x00\\x00\\x00\\x00\\x00\\x00\\x00\\x00\\x00\\x00\\x00\\x00\\x00\\x00\\x00\\x00\\x00\\x00\\x00\\x00\\x00\\x00\\x00\\x00\\x00\\x00\\x00\\x00\\x00\\x00\\x00\\x00\\x00\\x00\\x00\\x00\\x00\\x00\\x00\\x00\\x00\\x00\\x00\\x00\\x00\\x00\\x00\\x00\\x00\\x00\\x00\\x00\\x00\\x00\\x00\\x00\\x00\\x00\\x00\\x00\\x00\\x00\\x00\\x00\\x00\\x00\\x00\\x00\\x00\\x00\\x00\\x00\\x00\\x00\\x00\\x00\\x00\\x00\\x00\\x00\\x00\\x00\\x00\\x00\\x00\\x00\\x00\\x00\\x00\\x00\\x00\\x00\\x00\\x00\\x00\\x00\\x00\\x00\\x00\\x00\\x00\\x00\\x00\\x00\\x00\\x00\\x00\\x00\\x00\\x00\\x00\\x00\\x00\\x00\\x00\\x00\\x00\\x00\\x00\\x00\\x00\\x00\\x00\\x00\\x00\\x00\\x00\\x00\\x00\\x00\\x00\\x00\\x00\\x00\\x00\\x00\\x00\\x00\\x00\\x00\\x00\\x00\\x00\\x00\\x00\\x00\\x00\\x00\\x00\\x00\\x00\\x00\\x00\\x00\\x00\\x00\\x00\\x00\\x00\\x00\\x00\\x00\\x00\\x00\\x00\\x00\\x00\\x00\\x00\\x00\\x00\\x00\\x00\\x00\\x00\\x00\\x00\\x00\\x00\\x00\\x00\\x00\\x00\\x00\\x00\\x00\\x00\\x00\\x00\\x00\\x00\\x00\\x00\\x00\\x00\\x00\\x00\\x00\\x00\\x00\\x00\\x00\\x00\\x00\\x00\\x00\\x00\\x00\\x00\\x00\\x00\\x00\\x00\\x00\\x00\\x00\\x00\\x00\\x00\\x00\\x00\\x00\\x00\\x00\\x00\\x00\\x00\\x00\\x00\\x00\\x00\\x00\\x00\\x00\\x00\\x00\\x00\\x00\\x00\\x00\\x00\\x00\\x00\\x00\\x00\\x00\\x00\\x00\\x00\\x00\\x00\\x00\\x00\\x00\\x00\\x00\\x00\\x00\\x00\\x00\\x00\\x00\\x00\\x00\\x00\\x00\\x00\\x00\\x00\\x00\\x00\\x00\\x00\\x00\\x00\\x00\\x00\\x00\\x00\\x00\\x00\\x00\\x00\\x00\\x00\\x00\\x00\\x00\\x00\\x00\\x00\\x00\\x00\\x00\\x00\\x00\\x00\\x00\\x00\\x00\\x00\\x00\\x00\\x00\\x00\\x00\\x00\\x00\\x00\\x00\\x00\\x00\\x00\\x00\\x00\\x00\\x00\\x00\\x00\\x00\\x00\\x00\\x00\\x00\\x00\\x00\\x00\\x00\\x00\\x00\\x00\\x00\\x00\\x00\\x00\\x00\\x00\\x00\\x00\\x00\\x00\\x00\\x00\\x00\\x00\\x00\\x00\\x00\\x00\\x00\\x00\\x00\\x00\\x00\\x00\\x00\\x00\\x00\\x00\\x00\\x00\\x00\\x00\\x00\\x00\\x00\\x00\\x00\\x00\\x00\\x00\\x00\\x00\\x00\\x00\\x00\\x00\\x00\\x00\\x00\\x00\\x00\\x00\\x00\\x00\\x00\\x00\\x00\\x00\\x00\\x00\\x00\\x00\\x00\\x00\\x00\\x00\\x00\\x00\\x00\\x00\\x00\\x00\\x00\\x00\\x00\\x00\\x00\\x00\\x00\\x00\\x00\\x00\\x00\\x00\\x00\\x00\\x00\\x00\\x00\\x00\\x00\\x00\\x00\\x00\\x00\\x00\\x00\\x00\\x00\\x00\\x00\\x00\\x00\\x00\\x00\\x00\\x00\\x00\\x00\\x00\\x00\\x00\\x00\\x00\\x00\\x00\\x00\\x00\\x00\\x00\\x00\\x00\\x00\\x00\\x00\\x00\\x00\\x00\\x00\\x00\\x00\\x00\\x00\\x00\\x00\\x00\\x00\\x00\\x00\\x00\\x00\\x00\\x00\\x00\\x00\\x00\\x00\\x00\\x00\\x00\\x00\\x00\\x00\\x00\\x00\\x00\\x00\\x00\\x00\\x00\\x00\\x00\\x00\\x00\\x00\\x00\\x00\\x00\\x00\\x00\\x00\\x00\\x00\\x00\\x00\\x00\\x00\\x00\\x00\\x00\\x00\\x00\\x00\\x00\\x00\\x00\\x00\\x00\\x00\\x00\\x00\\x00\\x00\\x00\\x00\\x00\\x00\\x00\\x00\\x00\\x00\\x00\\x00\\x00\\x00\\x00\\x00\\x00\\x00\\x00\\x00\\x00\\x00\\x00\\x00\\x00\\x00\\x00\\x00\\x00\\x00\\x00\\x00\\x00\\x00\\x00\\x00\\x00\\x00\\x00\\x00\\x00\\x00\\x00\\x00\\x00\\x00\\x00\\x00\\x00\\x00\\x00\\x00\\x00\\x00\\x00\\x00\\x00\\x00\\x00\\x00\\x00\\x00\\x00\\x00\\x00\\x00\\x00\\x00\\x00\\x00\\x00\\x00\\x00\\x00\\x00\\x00\\x00\\x00\\x00\\x00\\x00\\x00\\x00\\x00\\x00\\x00\\x00\\x00\\x00\\x00\\x00\\x00\\x00\\x00\\x00\\x00\\x00\\x00\\x00\\x00\\x00\\x00\\x00\\x00\\x00\\x00\\x00\\x00\\x00\\x00\\x00\\x00\\x00\\x00\\x00\\x00\\x00\\x00\\x00\\x00\\x00\\x00\\x00\\x00\\x00\\x00\\x00\\x00\\x00\\x00\\x00\\x00\\x00\\x00\\x00\\x00\\x00\\x00\\x00\\x00\\x00\\x00\\x00\\x00\\x00\\x00\\x00\\x00\\x00\\x00\\x00\\x00\\x00\\x00\\x00\\x00\\x00\\x00\\x00\\x00\\x00\\x00\\x00\\x00\\x00\\x00\\x00\\x00\\x00\\x00\\x00\\x00\\x00\\x00\\x00\\x00\\x00\\x00\\x00\\x00\\x00\\x00\\x00\\x00\\x00\\x00\\x00\\x00\\x00\\x00\\x00\\x00\\x00\\x00\\x00\\x00\\x00\\x00\\x00\\x00\\x00\\x00\\x00\\x00\\x00\\x00\\x00\\x00\\x00\\x00\\x00\\x00\\x00\\x00\\x00\\x00\\x00\\x00\\x00\\x00\\x00\\x00\\x00\\x00\\x00\\x00\\x00\\x00\\x00\\x00\\x00\\x00\\x00\\x00\\x00\\x00\\x00\\x00\\x00\\x00\\x00\\x00\\x00\\x00\\x00\\x00\\x00\\x00\\x00\\x00\\x00\\x00\\x00\\x00\\x00\\x00\\x00\\x00\\x00\\x00\\x00\\x00\\x00\\x00\\x00\\x00\\x00\\x00\\x00\\x00\\x00\\x00\\x00\\x00\\x00\\x00\\x00\\x00\\x00\\x00\\x00\\x00\\x00\\x00\\x00\\x00\\x00\\x00\\x00\\x00\\x00\\x00\\x00\\x00\\x00\\x00\\x00\\x00\\x00\\x00\\x00\\x00\\x00\\x00\\x00\\x00\\x00\\x00\\x00\\x00\\x00\\x00\\x00\\x00\\x00\\x00\\x00\\x00\\x00\\x00\\x00\\x00\\x00\\x00\\x00\\x00\\x00\\x00\\x00\\x00\\x00\\x00\\x00\\x00\\x00\\x00\\x00\\x00\\x00\\x00\\x00\\x00\\x00\\x00\\x00\\x00\\x00\\x00\\x00\\x00\\x00\\x00\\x00\\x00\\x00\\x00\\x00\\x00\\x00\\x00\\x00\\x00\\x00\\x00\\x00\\x00\\x00\\x00\\x00\\x00\\x00\\x00\\x00\\x00\\x00\\x00\\x00\\x00\\x00\\x00\\x00\\x00\\x00\\x00\\x00\\x00\\x00\\x00\\x00\\x00\\x00\\x00\\x00\\x00\\x00\\x00\\x00\\x00\\x00\\x00\\x00\\x00\\x00\\x00\\x00\\x00\\x00\\x00\\x00\\x00\\x00\\x00\\x00\\x00\\x00\\x00\\x00\\x00\\x00\\x00\\x00\\x00\\x00\\x00\\x00\\x00\\x00\\x00\\x00\\x00\\x00\\x00\\x00\\x00\\x00\\x00\\x00\\x00\\x00\\x00\\x00\\x00\\x00\\x00\\x00\\x00\\x00\\x00\\x00\\x00\\x00\\x00\\x00\\x00\\x00\\x00\\x00\\x00\\x00\\x00\\x00\\x00\\x00\\x00\\x00\\x00\\x00\\x00\\x00\\x00\\x00\\x00\\x00\\x00\\x00\\x00\\x00\\x00\\x00\\x00\\x00\\x00\\x00\\x00\\x00\\x00\\x00\\x00\\x00\\x00\\x00\\x00\\x00\\x00\\x00\\x00\\x00\\x00\\x00\\x00\\x00\\x00\\x00\\x00\\x00\\x00\\x00\\x00\\x00\\x00\\x00\\x00\\x00\\x00\\x00\\x00\\x00\\x00\\x00\\x00\\x00\\x00\\x00\\x00\\x00\\x00\\x00\\x00\\x00\\x00\\x00\\x00\\x00\\x00\\x00\\x00\\x00\\x00\\x00\\x00\\x00\\x00\\x00\\x00\\x00\\x00\\x00\\x00\\x00\\x00\\x00\\x00\\x00\\x00\\x00\\x00\\x00\\x00\\x00\\x00\\x00\\x00\\x00\\x00\\x00\\x00\\x00\\x00\\x00\\x00\\x00\\x00\\x00\\x00\\x00\\x00\\x00\\x00\\x00\\x00\\x00\\x00\\x00\\x00\\x00\\x00\\x00\\x00\\x00\\x00\\x00\\x00\\x00\\x00\\x00\\x00\\x00\\x00\\x00\\x00\\x00\\x00\\x00\\x00\\x00\\x00\\x00\\x00\\x00\\x00\\x00\\x00\\x00\\x00\\x00\\x00\\x00\\x00\\x00\\x00\\x00\\x00\\x00\\x00\\x00\\x00\\x00\\x00\\x00\\x00\\x00\\x00\\x00\\x00\\x00\\x00\\x00\\x00\\x00\\x00\\x00\\x00\\x00\\x00\\x00\\x00\\x00\\x00\\x00\\x00\\x00\\x00\\x00\\x00\\x00\\x00\\x00\\x00\\x00\\x00\\x00\\x00\\x00\\x00\\x00\\x00\\x00\\x00\\x00\\x00\\x00\\x00\\x00\\x00\\x00\\x00\\x00\\x00\\x00\\x00\\x00\\x00\\x00\\x00\\x00\\x00\\x00\\x00\\x00\\x00\\x00\\x00\\x00\\x00\\x00\\x00\\x00\\x00\\x00\\x00\\x00\\x00\\x00\\x00\\x00\\x00\\x00\\x00\\x00\\x00\\x00\\x00\\x00\\x00\\x00\\x00\\x00\\x00\\x00\\x00\\x00\\x00\\x00\\x00\\x00\\x00\\x00\\x00\\x00\\x00\\x00\\x00\\x00\\x00\\x00\\x00\\x00\\x00\\x00\\x00\\x00\\x00\\x00\\x00\\x00\\x00\\x00\\x00\\x00\\x00\\x00\\x00\\x00\\x00\\x00\\x00\\x00\\x00\\x00\\x00\\x00\\x00\\x00\\x00\\x00\\x00\\x00\\x00\\x00\\x00\\x00\\x00\\x00\\x00\\x00\\x00\\x00\\x00\\x00\\x00\\x00\\x00\\x00\\x00\\x00\\x00\\x00\\x00\\x00\\x00\\x00\\x00\\x00\\x00\\x00\\x00\\x00\\x00\\x00\\x00\\x00\\x00\\x00\\x00\\x00\\x00\\x00\\x00\\x00\\x00\\x00\\x00\\x00\\x00\\x00\\x00\\x00\\x00\\x00\\x00\\x00\\x00\\x00\\x00\\x00\\x00\\x00\\x00\\x00\\x00\\x00\\x00\\x00\\x00\\x00\\x00\\x00\\x00\\x00\\x00\\x00\\x00\\x00\\x00\\x00\\x00\\x00\\x00\\x00\\x00\\x00\\x00\\x00\\x00\\x00\\x00\\x00\\x00\\x00\\x00\\x00\\x00\\x00\\x00\\x00\\x00\\x00\\x00\\x00\\x00\\x00\\x00\\x00\\x00\\x00\\x00\\x00\\x00\\x00\\x00\\x00\\x00\\x00\\x00\\x00\\x00\\x00\\x00\\x00\\x00\\x00\\x00\\x00\\x00\\x00\\x00\\x00\\x00\\x00\\x00\\x00\\x00\\x00\\x00\\x00\\x00\\x00\\x00\\x00\\x00\\x00\\x00\\x00\\x00\\x00\\x00\\x00\\x00\\x00\\x00\\x00\\x00\\x00\\x00\\x00\\x00\\x00\\x00\\x00\\x00\\x00\\x00\\x00\\x00\\x00\\x00\\x00\\x00\\x00\\x00\\x00\\x00\\x00\\x00\\x00\\x00\\x00\\x00\\x00\\x00\\x00\\x00\\x00\\x00\\x00\\x00\\x00\\x00\\x00\\x00\\x00\\x00\\x00\\x00\\x00\\x00\\x00\\x00\\x00\\x00\\x00\\x00\\x00\\x00\\x00\\x00\\x00\\x00\\x00\\x00\\x00\\x00\\x00\\x00\\x00\\x00\\x00\\x00\\x00\\x00\\x00\\x00\\x00\\x00\\x00\\x00\\x00\\x00\\x00\\x00\\x00\\x00\\x00\\x00\\x00\\x00\\x00\\x00\\x00\\x00\\x00\\x00\\x00\\x00\\x00\\x00\\x00\\x00\\x00\\x00\\x00\\x00\\x00\\x00\\x00\\x00\\x00\\x00\\x00\\x00\\x00\\x00\\x00\\x00\\x00\\x00\\x00\\x00\\x00\\x00\\x00\\x00\\x00\\x00\\x00\\x00\\x00\\x00\\x00\\x00\\x00\\x00\\x00\\x00\\x00\\x00\\x00\\x00\\x00\\x00\\x00\\x00\\x00\\x00\\x00\\x00\\x00\\x00\\x00\\x00\\x00\\x00\\x00\\x00\\x00\\x00\\x00\\x00\\x00\\x00\\x00\\x00\\x00\\x00\\x00\\x00\\x00\\x00\\x00\\x00\\x00\\x00\\x00\\x00\\x00\\x00\\x00\\x00\\x00\\x00\\x00\\x00\\x00\\x00\\x00\\x00\\x00\\x00\\x00\\x00\\x00\\x00\\x00\\x00\\x00\\x00\\x00\\x00\\x00\\x00\\x00\\x00\\x00\\x00\\x00\\x00\\x00\\x00\\x00\\x00\\x00\\x00\\x00\\x00\\x00\\x00\\x00\\x00\\x00\\x00\\x00\\x00\\x00\\x00\\x00\\x00\\x00\\x00\\x00\\x00\\x00\\x00\\x00\\x00\\x00\\x00\\x00\\x00\\x00\\x00\\x00\\x00\\x00\\x00\\x00\\x00\\x00\\x00\\x00\\x00\\x00\\x00\\x00\\x00\\x00\\x00\\x00\\x00\\x00\\x00\\x00\\x00\\x00\\x00\\x00\\x00\\x00\\x00\\x00\\x00\\x00\\x00\\x00\\x00\\x00\\x00\\x00\\x00\\x00\\x00\\x00\\x00\\x00\\x00\\x00\\x00\\x00\\x00\\x00\\x00\\x00\\x00\\x00\\x00\\x00\\x00\\x00\\x00\\x00\\x00\\x00\\x00\\x00\\x00\\x00\\x00\\x00\\x00\\x00\\x00\\x00\\x00\\x00\\x00\\x00\\x00\\x00\\x00\\x00\\x00\\x00\\x00\\x00\\x00\\x00\\x00\\x00\\x00\\x00\\x00\\x00\\x00\\x00\\x00\\x00\\x00\\x00\\x00\\x00\\x00\\x00\\x00\\x00\\x00\\x00\\x00\\x00\\x00\\x00\\x00\\x00\\x00\\x00\\x00\\x00\\x00\\x00\\x00\\x00\\x00\\x00\\x00\\x00\\x00\\x00\\x00\\x00\\x00\\x00\\x00\\x00\\x00\\x00\\x00\\x00\\x00\\x00\\x00\\x00\\x00\\x00\\x00\\x00\\x00\\x00\\x00\\x00\\x00\\x00\\x00\\x00\\x00\\x00\\x00\\x00\\x00\\x00\\x00\\x00\\x00\\x00\\x00\\x00\\x00\\x00\\x00\\x00\\x00\\x00\\x00\\x00\\x00\\x00\\x00\\x00\\x00\\x00\\x00\\x00\\x00\\x00\\x00\\x00\\x00\\x00\\x00\\x00\\x00\\x00\\x00\\x00\\x00\\x00\\x00\\x00\\x00\\x00\\x00\\x00\\x00\\x00\\x00\\x00\\x00\\x00\\x00\\x00\\x00\\x00\\x00\\x00\\x00\\x00\\x00\\x00\\x00\\x00\\x00\\x00\\x00\\x00\\x00\\x00\\x00\\x00\\x00\\x00\\x00\\x00\\x00\\x00\\x00\\x00\\x00\\x00\\x00\\x00\\x00\\x00\\x00\\x00\\x00\\x00\\x00\\x00\\x00\\x00\\x00\\x00\\x00\\x00\\x00\\x00\\x00\\x00\\x00\\x00\\x00\\x00\\x00\\x00\\x00\\x00\\x00\\x00\\x00\\x00\\x00\\x00\\x00\\x00\\x00\\x00\\x00\\x00\\x00\\x00\\x00\\x00\\x00\\x00\\x00\\x00\\x00\\x00\\x00\\x00\\x00\\x00\\x00\\x00\\x00\\x00\\x00\\x00\\x00\\x00\\x00\\x00\\x00\\x00\\x00\\x00\\x00\\x00\\x00\\x00\\x00\\x00\\x00\\x00\\x00\\x00\\x00\\x00\\x00\\x00\\x00\\x00\\x00\\x00\\x00\\x00\\x00\\x00\\x00\\x00\\x00\\x00\\x00\\x00\\x00\\x00\\x00\\x00\\x00\\x00\\x00\\x00\\x00\\x00\\x00\\x00\\x00\\x00\\x00\\x00\\x00\\x00\\x00\\x00\\x00\\x00\\x00\\x00\\x00\\x00\\x00\\x00\\x00\\x00\\x00\\x00\\x00\\x00\\x00\\x00\\x00\\x00\\x00\\x00\\x00\\x00\\x00\\x00\\x00\\x00\\x00\\x00\\x00\\x00\\x00\\x00\\x00\\x00\\x00\\x00\\x00\\x00\\x00\\x00\\x00\\x00\\x00\\x00\\x00\\x00\\x00\\x00\\x00\\x00\\x00\\x00\\x00\\x00\\x00\\x00\\x00\\x00\\x00\\x00\\x00\\x00\\x00\\x00\\x00\\x00\\x00\\x00\\x00\\x00\\x00\\x00\\x00\\x00\\x00\\x00\\x00\\x00\\x00\\x00\\x00\\x00\\x00\\x00\\x00\\x00\\x00\\x00\\x00\\x00\\x00\\x00\\x00\\x00\\x00\\x00\\x00\\x00\\x00\\x00\\x00\\x00\\x00\\x00\\x00\\x00\\x00\\x00\\x00\\x00\\x00\\x00\\x00\\x00\\x00\\x00\\x00\\x00\\x00\\x00\\x00\\x00\\x00\\x00\\x00\\x00\\x00\\x00\\x00\\x00\\x00\\x00\\x00\\x00\\x00\\x00\\x00\\x00\\x00\\x00\\x00\\x00\\x00\\x00\\x00\\x00\\x00\\x00\\x00\\x00\\x00\\x00\\x00\\x00\\x00\\x00\\x00\\x00\\x00\\x00\\x00\\x00\\x00\\x00\\x00\\x00\\x00\\x00\\x00\\x00\\x00\\x00\\x00\\x00\\x00\\x00\\x00\\x00\\x00\\x00\\x00\\x00\\x00\\x00\\x00\\x00\\x00\\x00\\x00\\x00\\x00\\x00\\x00\\x00\\x00\\x00\\x00\\x00\\x00\\x00\\x00\\x00\\x00\\x00\\x00\\x00\\x00\\x00\\x00\\x00\\x00\\x00\\x00\\x00\\x00\\x00\\x00\\x00\\x00\\x00\\x00\\x00\\x00\\x00\\x00\\x00\\x00\\x00\\x00\\x00\\x00\\x00\\x00\\x00\\x00\\x00\\x00\\x00\\x00\\x00\\x00\\x00\\x00\\x00\\x00\\x00\\x00\\x00\\x00\\x00\\x00\\x00\\x00\\x00\\x00\\x00\\x00\\x00\\x00\\x00\\x00\\x00\\x00\\x00\\x00\\x00\\x00\\x00\\x00\\x00\\x00\\x00\\x00\\x00\\x00\\x00\\x00\\x00\\x00\\x00\\x00\\x00\\x00\\x00\\x00\\x00\\x00\\x00\\x00\\x00\\x00\\x00\\x00\\x00\\x00\\x00\\x00\\x00\\x00\\x00\\x00\\x00\\x00\\x00\\x00\\x00\\x00\\x00\\x00\\x00\\x00\\x00\\x00\\x00\\x00\\x00\\x00\\x00\\x00\\x00\\x00\\x00\\x00\\x00\\x00\\x00\\x00\\x00\\x00\\x00\\x00\\x00\\x00\\x00\\x00\\x00\\x00\\x00\\x00\\x00\\x00\\x00\\x00\\x00\\x00\\x00\\x00\\x00\\x00\\x00\\x00\\x00\\x00\\x00\\x00\\x00\\x00\\x00\\x00XTENSION= \\'BINTABLE\\'           / Binary table extension                         BITPIX  =                    8 / 8-bit bytes                                    NAXIS   =                    2 / 2-dimensional binary table                     NAXIS1  =                   20 / Width of table in bytes                        NAXIS2  =                    2 / The number of rows                             PCOUNT  =                    0 / Size of special data area                      GCOUNT  =                    1 / Only one group                                 TFIELDS =                    3 / Number of fields per row                       EXTNAME = \\'mw_limits\\'          / Name of table                                                                                                                  TTYPE1  = \\'NAME    \\'           / Name of limited value                          TFORM1  = \\'12A     \\'           /                                                TUNIT1  = \\'        \\'           /                                                TDISP1  = \\'A       \\'           / %s                                                                                                                             TTYPE2  = \\'LOW     \\'           / Lower limit                                    TFORM2  = \\'1E      \\'           /                                                TUNIT2  = \\'UNKNOWN \\'           /                                                TDISP2  = \\'G15.7   \\'           / %15.7g                                                                                                                         TTYPE3  = \\'HIGH    \\'           / Upper limit                                    TFORM3  = \\'1E      \\'           /                                                TUNIT3  = \\'UNKNOWN \\'           /                                                TDISP3  = \\'G15.7   \\'           / %15.7g                                                                                                                         ORIGIN  = \\'CEA/SSL UC Berkeley\\' / EUVE Science Archive                          CREATOR = \\'STWFITS \\'           / Fitsio version 11-May-1995                     TELESCOP= \\'EUVE    \\'           / Extreme Ultraviolet Explorer                   INSTTYPE= \\'DS/S    \\'           / Instrument type (DS/S, SCANNER)                INSTRUME= \\'DS/S    \\'           / Deep Survey - Spectrometer                     DETNAM  = \\'MW      \\'           / Medium Wavelength Spectrometer                 OBJECT  = \\'NGC 4151\\'           / Name of observed object                        RA_OBJ  =    182.6354540000005 / R.A. of the object (degrees)                   DEC_OBJ =    39.40572800000015 / Declination of the object (degrees)            RA_PNT  =    182.9880000000006 / R.A. of the pointing direction (degrees)       DEC_PNT =              39.5477 / Declination of the pointing direction (degrees)RA_PROC =    182.6379100000007 / R.A. used to process data (degrees)            DEC_PROC=             39.41343 / Declination used to process data (degrees)     OBSERVER= \\'A. A. Zdziarski\\'    / Original observing P.I. (EUVE = calibration)   DATE-OBS= \\'30/04/97 GMT\\'       / Start date of observation (dd/mm/yy) 19yy      TIME-OBS= \\'23:51:30 GMT\\'       / Start time of observation (hh:mm:ss GMT)       DATE-END= \\'07/05/97 GMT\\'       / End date of observation (dd/mm/yy) 19yy        TIME-END= \\'09:34:27 GMT\\'       / End time of observation (hh:mm:ss GMT)         OBS_MODE= \\'POINTING\\'           / Inertial pointing mode                         DITHER  = \\'NONE    \\'           / Spacecraft dither type (DITHERED, SPIRAL, NONE)DETMODE = \\'WSZ     \\'           / Detector position conversion mode (WSZ or XY)  OFF-AXIS=                    T / Was this pointing done off-axis                MOVING  =                    F / Did the source position vary during observationDAYNIGHT= \\'NIGHT   \\'           / Day/night data indicator (DAY, NIGHT, BOTH)    VALIDTIM=    201378.8129577704 / Amount of telemetry present (seconds)          RA_UNIT = \\'deg     \\'           / Units for Right Ascension                      DEC_UNIT= \\'deg     \\'           / Units for Declination                          EQUINOX =                2000. / Coordinate equinox                             RADECSYS= \\'FK5     \\'           / Frame of reference of coordinates              TIMESYS = \\'MJD     \\'           / MJD = JD - 2400000.5                           TIMEZERO=                   0. / No time offset required for EUVE event times   TIMEUNIT= \\'s       \\'           / Units for TSTART, TSTOP, TIMEZERO              CLOCKCOR= \\'NO      \\'           / Not corrected to UT                            TIMEREF = \\'LOCAL   \\'           / No corrections applied (barycentric, etc.)     TASSIGN = \\'SATELLITE\\'          / Event times are assigned at the satellite      TSTART  =    913161090.0480012 / Time of start of observation (seconds)         TSTOP   =    913714467.8400012 / Time of end of observation (seconds)           MJDREF  =               40000. / MJD of SC clock start, 24.00 May 1968          EGOCSVER= \\'egocs1.7.1\\'         / Software version used to produce this data     REFVERS = \\'egodata1.15.1\\'      / Reference calibration dataset version used     INHERIT =                    F / Do not inherit cards from the primary header   COMMENT     \\' \\'                                                                 COMMENT     \\'This table contains the limits used to filter the Medium\\'          COMMENT     \\'Wavelength spectrometer image for this observation.\\'               COMMENT     \\'The image is in the extension named \"mw\" in this file.\\'            COMMENT     \\' \\'                                                                 END                                                                             mwadct      @@\\x00\\x00C\\x02\\x00\\x00lookzen     \\x00\\x00\\x00\\x00B\\xcc\\x00\\x00\\x00\\x00\\x00\\x00\\x00\\x00\\x00\\x00\\x00\\x00\\x00\\x00\\x00\\x00\\x00\\x00\\x00\\x00\\x00\\x00\\x00\\x00\\x00\\x00\\x00\\x00\\x00\\x00\\x00\\x00\\x00\\x00\\x00\\x00\\x00\\x00\\x00\\x00\\x00\\x00\\x00\\x00\\x00\\x00\\x00\\x00\\x00\\x00\\x00\\x00\\x00\\x00\\x00\\x00\\x00\\x00\\x00\\x00\\x00\\x00\\x00\\x00\\x00\\x00\\x00\\x00\\x00\\x00\\x00\\x00\\x00\\x00\\x00\\x00\\x00\\x00\\x00\\x00\\x00\\x00\\x00\\x00\\x00\\x00\\x00\\x00\\x00\\x00\\x00\\x00\\x00\\x00\\x00\\x00\\x00\\x00\\x00\\x00\\x00\\x00\\x00\\x00\\x00\\x00\\x00\\x00\\x00\\x00\\x00\\x00\\x00\\x00\\x00\\x00\\x00\\x00\\x00\\x00\\x00\\x00\\x00\\x00\\x00\\x00\\x00\\x00\\x00\\x00\\x00\\x00\\x00\\x00\\x00\\x00\\x00\\x00\\x00\\x00\\x00\\x00\\x00\\x00\\x00\\x00\\x00\\x00\\x00\\x00\\x00\\x00\\x00\\x00\\x00\\x00\\x00\\x00\\x00\\x00\\x00\\x00\\x00\\x00\\x00\\x00\\x00\\x00\\x00\\x00\\x00\\x00\\x00\\x00\\x00\\x00\\x00\\x00\\x00\\x00\\x00\\x00\\x00\\x00\\x00\\x00\\x00\\x00\\x00\\x00\\x00\\x00\\x00\\x00\\x00\\x00\\x00\\x00\\x00\\x00\\x00\\x00\\x00\\x00\\x00\\x00\\x00\\x00\\x00\\x00\\x00\\x00\\x00\\x00\\x00\\x00\\x00\\x00\\x00\\x00\\x00\\x00\\x00\\x00\\x00\\x00\\x00\\x00\\x00\\x00\\x00\\x00\\x00\\x00\\x00\\x00\\x00\\x00\\x00\\x00\\x00\\x00\\x00\\x00\\x00\\x00\\x00\\x00\\x00\\x00\\x00\\x00\\x00\\x00\\x00\\x00\\x00\\x00\\x00\\x00\\x00\\x00\\x00\\x00\\x00\\x00\\x00\\x00\\x00\\x00\\x00\\x00\\x00\\x00\\x00\\x00\\x00\\x00\\x00\\x00\\x00\\x00\\x00\\x00\\x00\\x00\\x00\\x00\\x00\\x00\\x00\\x00\\x00\\x00\\x00\\x00\\x00\\x00\\x00\\x00\\x00\\x00\\x00\\x00\\x00\\x00\\x00\\x00\\x00\\x00\\x00\\x00\\x00\\x00\\x00\\x00\\x00\\x00\\x00\\x00\\x00\\x00\\x00\\x00\\x00\\x00\\x00\\x00\\x00\\x00\\x00\\x00\\x00\\x00\\x00\\x00\\x00\\x00\\x00\\x00\\x00\\x00\\x00\\x00\\x00\\x00\\x00\\x00\\x00\\x00\\x00\\x00\\x00\\x00\\x00\\x00\\x00\\x00\\x00\\x00\\x00\\x00\\x00\\x00\\x00\\x00\\x00\\x00\\x00\\x00\\x00\\x00\\x00\\x00\\x00\\x00\\x00\\x00\\x00\\x00\\x00\\x00\\x00\\x00\\x00\\x00\\x00\\x00\\x00\\x00\\x00\\x00\\x00\\x00\\x00\\x00\\x00\\x00\\x00\\x00\\x00\\x00\\x00\\x00\\x00\\x00\\x00\\x00\\x00\\x00\\x00\\x00\\x00\\x00\\x00\\x00\\x00\\x00\\x00\\x00\\x00\\x00\\x00\\x00\\x00\\x00\\x00\\x00\\x00\\x00\\x00\\x00\\x00\\x00\\x00\\x00\\x00\\x00\\x00\\x00\\x00\\x00\\x00\\x00\\x00\\x00\\x00\\x00\\x00\\x00\\x00\\x00\\x00\\x00\\x00\\x00\\x00\\x00\\x00\\x00\\x00\\x00\\x00\\x00\\x00\\x00\\x00\\x00\\x00\\x00\\x00\\x00\\x00\\x00\\x00\\x00\\x00\\x00\\x00\\x00\\x00\\x00\\x00\\x00\\x00\\x00\\x00\\x00\\x00\\x00\\x00\\x00\\x00\\x00\\x00\\x00\\x00\\x00\\x00\\x00\\x00\\x00\\x00\\x00\\x00\\x00\\x00\\x00\\x00\\x00\\x00\\x00\\x00\\x00\\x00\\x00\\x00\\x00\\x00\\x00\\x00\\x00\\x00\\x00\\x00\\x00\\x00\\x00\\x00\\x00\\x00\\x00\\x00\\x00\\x00\\x00\\x00\\x00\\x00\\x00\\x00\\x00\\x00\\x00\\x00\\x00\\x00\\x00\\x00\\x00\\x00\\x00\\x00\\x00\\x00\\x00\\x00\\x00\\x00\\x00\\x00\\x00\\x00\\x00\\x00\\x00\\x00\\x00\\x00\\x00\\x00\\x00\\x00\\x00\\x00\\x00\\x00\\x00\\x00\\x00\\x00\\x00\\x00\\x00\\x00\\x00\\x00\\x00\\x00\\x00\\x00\\x00\\x00\\x00\\x00\\x00\\x00\\x00\\x00\\x00\\x00\\x00\\x00\\x00\\x00\\x00\\x00\\x00\\x00\\x00\\x00\\x00\\x00\\x00\\x00\\x00\\x00\\x00\\x00\\x00\\x00\\x00\\x00\\x00\\x00\\x00\\x00\\x00\\x00\\x00\\x00\\x00\\x00\\x00\\x00\\x00\\x00\\x00\\x00\\x00\\x00\\x00\\x00\\x00\\x00\\x00\\x00\\x00\\x00\\x00\\x00\\x00\\x00\\x00\\x00\\x00\\x00\\x00\\x00\\x00\\x00\\x00\\x00\\x00\\x00\\x00\\x00\\x00\\x00\\x00\\x00\\x00\\x00\\x00\\x00\\x00\\x00\\x00\\x00\\x00\\x00\\x00\\x00\\x00\\x00\\x00\\x00\\x00\\x00\\x00\\x00\\x00\\x00\\x00\\x00\\x00\\x00\\x00\\x00\\x00\\x00\\x00\\x00\\x00\\x00\\x00\\x00\\x00\\x00\\x00\\x00\\x00\\x00\\x00\\x00\\x00\\x00\\x00\\x00\\x00\\x00\\x00\\x00\\x00\\x00\\x00\\x00\\x00\\x00\\x00\\x00\\x00\\x00\\x00\\x00\\x00\\x00\\x00\\x00\\x00\\x00\\x00\\x00\\x00\\x00\\x00\\x00\\x00\\x00\\x00\\x00\\x00\\x00\\x00\\x00\\x00\\x00\\x00\\x00\\x00\\x00\\x00\\x00\\x00\\x00\\x00\\x00\\x00\\x00\\x00\\x00\\x00\\x00\\x00\\x00\\x00\\x00\\x00\\x00\\x00\\x00\\x00\\x00\\x00\\x00\\x00\\x00\\x00\\x00\\x00\\x00\\x00\\x00\\x00\\x00\\x00\\x00\\x00\\x00\\x00\\x00\\x00\\x00\\x00\\x00\\x00\\x00\\x00\\x00\\x00\\x00\\x00\\x00\\x00\\x00\\x00\\x00\\x00\\x00\\x00\\x00\\x00\\x00\\x00\\x00\\x00\\x00\\x00\\x00\\x00\\x00\\x00\\x00\\x00\\x00\\x00\\x00\\x00\\x00\\x00\\x00\\x00\\x00\\x00\\x00\\x00\\x00\\x00\\x00\\x00\\x00\\x00\\x00\\x00\\x00\\x00\\x00\\x00\\x00\\x00\\x00\\x00\\x00\\x00\\x00\\x00\\x00\\x00\\x00\\x00\\x00\\x00\\x00\\x00\\x00\\x00\\x00\\x00\\x00\\x00\\x00\\x00\\x00\\x00\\x00\\x00\\x00\\x00\\x00\\x00\\x00\\x00\\x00\\x00\\x00\\x00\\x00\\x00\\x00\\x00\\x00\\x00\\x00\\x00\\x00\\x00\\x00\\x00\\x00\\x00\\x00\\x00\\x00\\x00\\x00\\x00\\x00\\x00\\x00\\x00\\x00\\x00\\x00\\x00\\x00\\x00\\x00\\x00\\x00\\x00\\x00\\x00\\x00\\x00\\x00\\x00\\x00\\x00\\x00\\x00\\x00\\x00\\x00\\x00\\x00\\x00\\x00\\x00\\x00\\x00\\x00\\x00\\x00\\x00\\x00\\x00\\x00\\x00\\x00\\x00\\x00\\x00\\x00\\x00\\x00\\x00\\x00\\x00\\x00\\x00\\x00\\x00\\x00\\x00\\x00\\x00\\x00\\x00\\x00\\x00\\x00\\x00\\x00\\x00\\x00\\x00\\x00\\x00\\x00\\x00\\x00\\x00\\x00\\x00\\x00\\x00\\x00\\x00\\x00\\x00\\x00\\x00\\x00\\x00\\x00\\x00\\x00\\x00\\x00\\x00\\x00\\x00\\x00\\x00\\x00\\x00\\x00\\x00\\x00\\x00\\x00\\x00\\x00\\x00\\x00\\x00\\x00\\x00\\x00\\x00\\x00\\x00\\x00\\x00\\x00\\x00\\x00\\x00\\x00\\x00\\x00\\x00\\x00\\x00\\x00\\x00\\x00\\x00\\x00\\x00\\x00\\x00\\x00\\x00\\x00\\x00\\x00\\x00\\x00\\x00\\x00\\x00\\x00\\x00\\x00\\x00\\x00\\x00\\x00\\x00\\x00\\x00\\x00\\x00\\x00\\x00\\x00\\x00\\x00\\x00\\x00\\x00\\x00\\x00\\x00\\x00\\x00\\x00\\x00\\x00\\x00\\x00\\x00\\x00\\x00\\x00\\x00\\x00\\x00\\x00\\x00\\x00\\x00\\x00\\x00\\x00\\x00\\x00\\x00\\x00\\x00\\x00\\x00\\x00\\x00\\x00\\x00\\x00\\x00\\x00\\x00\\x00\\x00\\x00\\x00\\x00\\x00\\x00\\x00\\x00\\x00\\x00\\x00\\x00\\x00\\x00\\x00\\x00\\x00\\x00\\x00\\x00\\x00\\x00\\x00\\x00\\x00\\x00\\x00\\x00\\x00\\x00\\x00\\x00\\x00\\x00\\x00\\x00\\x00\\x00\\x00\\x00\\x00\\x00\\x00\\x00\\x00\\x00\\x00\\x00\\x00\\x00\\x00\\x00\\x00\\x00\\x00\\x00\\x00\\x00\\x00\\x00\\x00\\x00\\x00\\x00\\x00\\x00\\x00\\x00\\x00\\x00\\x00\\x00\\x00\\x00\\x00\\x00\\x00\\x00\\x00\\x00\\x00\\x00\\x00\\x00\\x00\\x00\\x00\\x00\\x00\\x00\\x00\\x00\\x00\\x00\\x00\\x00\\x00\\x00\\x00\\x00\\x00\\x00\\x00\\x00\\x00\\x00\\x00\\x00\\x00\\x00\\x00\\x00\\x00\\x00\\x00\\x00\\x00\\x00\\x00\\x00\\x00\\x00\\x00\\x00\\x00\\x00\\x00\\x00\\x00\\x00\\x00\\x00\\x00\\x00\\x00\\x00\\x00\\x00\\x00\\x00\\x00\\x00\\x00\\x00\\x00\\x00\\x00\\x00\\x00\\x00\\x00\\x00\\x00\\x00\\x00\\x00\\x00\\x00\\x00\\x00\\x00\\x00\\x00\\x00\\x00\\x00\\x00\\x00\\x00\\x00\\x00\\x00\\x00\\x00\\x00\\x00\\x00\\x00\\x00\\x00\\x00\\x00\\x00\\x00\\x00\\x00\\x00\\x00\\x00\\x00\\x00\\x00\\x00\\x00\\x00\\x00\\x00\\x00\\x00\\x00\\x00\\x00\\x00\\x00\\x00\\x00\\x00\\x00\\x00\\x00\\x00\\x00\\x00\\x00\\x00\\x00\\x00\\x00\\x00\\x00\\x00\\x00\\x00\\x00\\x00\\x00\\x00\\x00\\x00\\x00\\x00\\x00\\x00\\x00\\x00\\x00\\x00\\x00\\x00\\x00\\x00\\x00\\x00\\x00\\x00\\x00\\x00\\x00\\x00\\x00\\x00\\x00\\x00\\x00\\x00\\x00\\x00\\x00\\x00\\x00\\x00\\x00\\x00\\x00\\x00\\x00\\x00\\x00\\x00\\x00\\x00\\x00\\x00\\x00\\x00\\x00\\x00\\x00\\x00\\x00\\x00\\x00\\x00\\x00\\x00\\x00\\x00\\x00\\x00\\x00\\x00\\x00\\x00\\x00\\x00\\x00\\x00\\x00\\x00\\x00\\x00\\x00\\x00\\x00\\x00\\x00\\x00\\x00\\x00\\x00\\x00\\x00\\x00\\x00\\x00\\x00\\x00\\x00\\x00\\x00\\x00\\x00\\x00\\x00\\x00\\x00\\x00\\x00\\x00\\x00\\x00\\x00\\x00\\x00\\x00\\x00\\x00\\x00\\x00\\x00\\x00\\x00\\x00\\x00\\x00\\x00\\x00\\x00\\x00\\x00\\x00\\x00\\x00\\x00\\x00\\x00\\x00\\x00\\x00\\x00\\x00\\x00\\x00\\x00\\x00\\x00\\x00\\x00\\x00\\x00\\x00\\x00\\x00\\x00\\x00\\x00\\x00\\x00\\x00\\x00\\x00\\x00\\x00\\x00\\x00\\x00\\x00\\x00\\x00\\x00\\x00\\x00\\x00\\x00\\x00\\x00\\x00\\x00\\x00\\x00\\x00\\x00\\x00\\x00\\x00\\x00\\x00\\x00\\x00\\x00\\x00\\x00\\x00\\x00\\x00\\x00\\x00\\x00\\x00\\x00\\x00\\x00\\x00\\x00\\x00\\x00\\x00\\x00\\x00\\x00\\x00\\x00\\x00\\x00\\x00\\x00\\x00\\x00\\x00\\x00\\x00\\x00\\x00\\x00\\x00\\x00\\x00\\x00\\x00\\x00\\x00\\x00\\x00\\x00\\x00\\x00\\x00\\x00\\x00\\x00\\x00\\x00\\x00\\x00\\x00\\x00\\x00\\x00\\x00\\x00\\x00\\x00\\x00\\x00\\x00\\x00\\x00\\x00\\x00\\x00\\x00\\x00\\x00\\x00\\x00\\x00\\x00\\x00\\x00\\x00\\x00\\x00\\x00\\x00\\x00\\x00\\x00\\x00\\x00\\x00\\x00\\x00\\x00\\x00\\x00\\x00\\x00\\x00\\x00\\x00\\x00\\x00\\x00\\x00\\x00\\x00\\x00\\x00\\x00\\x00\\x00\\x00\\x00\\x00\\x00\\x00\\x00\\x00\\x00\\x00\\x00\\x00\\x00\\x00\\x00\\x00\\x00\\x00\\x00\\x00\\x00\\x00\\x00\\x00\\x00\\x00\\x00\\x00\\x00\\x00\\x00\\x00\\x00\\x00\\x00\\x00\\x00\\x00\\x00\\x00\\x00\\x00\\x00\\x00\\x00\\x00\\x00\\x00\\x00\\x00\\x00\\x00\\x00\\x00\\x00\\x00\\x00\\x00\\x00\\x00\\x00\\x00\\x00\\x00\\x00\\x00\\x00\\x00\\x00\\x00\\x00\\x00\\x00\\x00\\x00\\x00\\x00\\x00\\x00\\x00\\x00\\x00\\x00\\x00\\x00\\x00\\x00\\x00\\x00\\x00\\x00\\x00\\x00\\x00\\x00\\x00\\x00\\x00\\x00\\x00\\x00\\x00\\x00\\x00\\x00\\x00\\x00\\x00\\x00\\x00\\x00\\x00\\x00\\x00\\x00\\x00\\x00\\x00\\x00\\x00\\x00\\x00\\x00\\x00\\x00\\x00\\x00\\x00\\x00\\x00\\x00\\x00\\x00\\x00\\x00\\x00\\x00\\x00\\x00\\x00\\x00\\x00\\x00\\x00\\x00\\x00\\x00\\x00\\x00\\x00\\x00\\x00\\x00\\x00\\x00\\x00\\x00\\x00\\x00\\x00\\x00\\x00\\x00\\x00\\x00\\x00\\x00\\x00\\x00\\x00\\x00\\x00\\x00\\x00\\x00\\x00\\x00\\x00\\x00\\x00\\x00\\x00\\x00\\x00\\x00\\x00\\x00\\x00\\x00\\x00\\x00\\x00\\x00\\x00\\x00\\x00\\x00\\x00\\x00\\x00\\x00\\x00\\x00\\x00\\x00\\x00\\x00\\x00\\x00\\x00\\x00\\x00\\x00\\x00\\x00\\x00\\x00\\x00\\x00\\x00\\x00\\x00\\x00\\x00\\x00\\x00\\x00\\x00\\x00\\x00\\x00\\x00\\x00\\x00\\x00\\x00\\x00\\x00\\x00\\x00\\x00\\x00\\x00\\x00\\x00\\x00\\x00\\x00\\x00\\x00\\x00\\x00\\x00\\x00\\x00\\x00\\x00\\x00\\x00\\x00\\x00\\x00\\x00\\x00\\x00\\x00\\x00\\x00\\x00\\x00\\x00\\x00\\x00\\x00\\x00\\x00\\x00\\x00\\x00\\x00\\x00\\x00\\x00\\x00\\x00\\x00\\x00\\x00\\x00\\x00\\x00\\x00\\x00\\x00\\x00\\x00\\x00\\x00\\x00\\x00\\x00\\x00\\x00\\x00\\x00\\x00\\x00\\x00\\x00\\x00\\x00\\x00\\x00\\x00\\x00\\x00\\x00\\x00\\x00\\x00\\x00\\x00\\x00\\x00\\x00\\x00\\x00\\x00\\x00\\x00\\x00\\x00\\x00\\x00\\x00\\x00\\x00\\x00\\x00\\x00\\x00\\x00\\x00\\x00\\x00\\x00\\x00\\x00\\x00\\x00\\x00\\x00\\x00\\x00\\x00\\x00\\x00\\x00\\x00\\x00\\x00\\x00\\x00\\x00\\x00\\x00\\x00\\x00\\x00\\x00\\x00\\x00\\x00\\x00\\x00\\x00\\x00\\x00\\x00\\x00\\x00\\x00\\x00\\x00\\x00\\x00\\x00\\x00\\x00\\x00\\x00\\x00\\x00\\x00\\x00\\x00\\x00\\x00\\x00\\x00\\x00\\x00\\x00\\x00\\x00\\x00\\x00\\x00\\x00\\x00\\x00\\x00\\x00\\x00\\x00\\x00\\x00\\x00\\x00\\x00\\x00\\x00\\x00\\x00\\x00\\x00\\x00\\x00\\x00\\x00\\x00\\x00\\x00\\x00\\x00\\x00\\x00\\x00\\x00\\x00\\x00\\x00\\x00\\x00\\x00\\x00\\x00\\x00\\x00\\x00\\x00\\x00\\x00\\x00\\x00\\x00\\x00\\x00\\x00\\x00\\x00\\x00\\x00\\x00\\x00\\x00\\x00\\x00\\x00\\x00\\x00\\x00\\x00\\x00\\x00\\x00\\x00\\x00\\x00\\x00\\x00\\x00\\x00\\x00\\x00\\x00\\x00\\x00\\x00\\x00\\x00\\x00\\x00\\x00\\x00\\x00\\x00\\x00\\x00\\x00\\x00\\x00\\x00\\x00\\x00\\x00\\x00\\x00\\x00\\x00\\x00\\x00\\x00\\x00\\x00\\x00\\x00\\x00\\x00\\x00\\x00\\x00\\x00\\x00\\x00\\x00\\x00\\x00\\x00\\x00\\x00\\x00\\x00\\x00\\x00\\x00\\x00\\x00\\x00\\x00\\x00\\x00\\x00\\x00\\x00\\x00\\x00\\x00\\x00\\x00\\x00\\x00\\x00\\x00\\x00\\x00\\x00\\x00\\x00\\x00\\x00\\x00\\x00\\x00\\x00\\x00\\x00\\x00\\x00\\x00\\x00\\x00\\x00\\x00\\x00\\x00\\x00\\x00\\x00\\x00\\x00\\x00\\x00\\x00\\x00\\x00\\x00\\x00\\x00\\x00\\x00\\x00\\x00\\x00\\x00\\x00\\x00\\x00\\x00\\x00\\x00\\x00\\x00\\x00\\x00\\x00\\x00\\x00\\x00\\x00\\x00\\x00\\x00\\x00\\x00\\x00\\x00\\x00\\x00\\x00\\x00\\x00\\x00\\x00\\x00\\x00\\x00\\x00\\x00\\x00\\x00\\x00\\x00\\x00\\x00\\x00\\x00\\x00\\x00\\x00\\x00\\x00\\x00\\x00\\x00\\x00\\x00\\x00\\x00\\x00\\x00\\x00\\x00\\x00\\x00\\x00\\x00\\x00\\x00\\x00\\x00\\x00\\x00\\x00\\x00\\x00\\x00\\x00\\x00\\x00\\x00\\x00\\x00\\x00\\x00\\x00\\x00\\x00\\x00\\x00\\x00\\x00\\x00\\x00\\x00\\x00\\x00\\x00\\x00\\x00\\x00\\x00\\x00\\x00\\x00\\x00\\x00\\x00\\x00\\x00\\x00\\x00\\x00\\x00\\x00\\x00\\x00\\x00\\x00\\x00\\x00\\x00\\x00\\x00\\x00\\x00\\x00\\x00\\x00\\x00\\x00\\x00\\x00\\x00\\x00\\x00\\x00\\x00\\x00\\x00\\x00\\x00\\x00\\x00\\x00\\x00\\x00\\x00\\x00\\x00\\x00\\x00\\x00\\x00\\x00\\x00\\x00\\x00\\x00\\x00\\x00\\x00\\x00\\x00\\x00\\x00\\x00\\x00\\x00\\x00\\x00\\x00\\x00\\x00\\x00\\x00\\x00\\x00\\x00\\x00\\x00\\x00\\x00\\x00\\x00\\x00\\x00\\x00\\x00\\x00\\x00\\x00\\x00\\x00\\x00\\x00\\x00\\x00\\x00\\x00\\x00\\x00\\x00\\x00\\x00\\x00\\x00\\x00\\x00\\x00\\x00\\x00\\x00\\x00\\x00\\x00\\x00\\x00\\x00\\x00\\x00\\x00\\x00\\x00\\x00\\x00\\x00\\x00\\x00\\x00\\x00\\x00\\x00\\x00\\x00\\x00\\x00\\x00\\x00\\x00\\x00\\x00\\x00\\x00\\x00\\x00\\x00\\x00\\x00\\x00\\x00\\x00\\x00\\x00\\x00\\x00\\x00\\x00\\x00\\x00\\x00\\x00\\x00\\x00\\x00\\x00\\x00\\x00\\x00\\x00\\x00\\x00\\x00\\x00\\x00\\x00\\x00\\x00\\x00\\x00\\x00\\x00\\x00\\x00\\x00\\x00\\x00\\x00\\x00\\x00\\x00\\x00\\x00\\x00\\x00\\x00\\x00\\x00\\x00\\x00\\x00\\x00\\x00\\x00\\x00\\x00\\x00\\x00\\x00\\x00\\x00\\x00\\x00\\x00\\x00\\x00\\x00\\x00\\x00\\x00\\x00\\x00\\x00\\x00\\x00\\x00\\x00\\x00\\x00\\x00\\x00\\x00\\x00\\x00\\x00\\x00\\x00\\x00\\x00\\x00\\x00\\x00\\x00\\x00\\x00\\x00\\x00\\x00\\x00\\x00\\x00\\x00\\x00\\x00\\x00\\x00\\x00\\x00\\x00\\x00\\x00\\x00\\x00\\x00\\x00\\x00\\x00\\x00\\x00\\x00\\x00\\x00\\x00\\x00\\x00\\x00\\x00\\x00\\x00\\x00\\x00\\x00\\x00\\x00\\x00\\x00\\x00\\x00\\x00\\x00\\x00\\x00\\x00\\x00\\x00\\x00\\x00\\x00\\x00\\x00\\x00\\x00\\x00\\x00\\x00\\x00\\x00\\x00\\x00\\x00\\x00\\x00\\x00\\x00\\x00\\x00\\x00\\x00\\x00\\x00\\x00\\x00\\x00\\x00\\x00\\x00\\x00\\x00\\x00\\x00\\x00\\x00\\x00\\x00\\x00\\x00\\x00\\x00\\x00\\x00\\x00\\x00\\x00\\x00\\x00\\x00\\x00\\x00\\x00\\x00\\x00\\x00\\x00\\x00\\x00\\x00\\x00\\x00\\x00\\x00\\x00\\x00\\x00\\x00\\x00\\x00\\x00\\x00\\x00\\x00\\x00\\x00\\x00\\x00\\x00\\x00\\x00\\x00\\x00\\x00\\x00\\x00\\x00\\x00\\x00\\x00\\x00\\x00\\x00\\x00\\x00\\x00\\x00\\x00\\x00\\x00\\x00\\x00\\x00\\x00\\x00\\x00\\x00\\x00\\x00\\x00\\x00\\x00\\x00\\x00\\x00\\x00\\x00\\x00\\x00\\x00\\x00\\x00\\x00\\x00\\x00\\x00\\x00\\x00\\x00\\x00\\x00\\x00\\x00\\x00\\x00\\x00\\x00\\x00\\x00\\x00\\x00\\x00\\x00\\x00\\x00\\x00\\x00\\x00\\x00\\x00\\x00\\x00\\x00\\x00\\x00\\x00\\x00\\x00\\x00\\x00\\x00\\x00\\x00\\x00\\x00\\x00\\x00\\x00\\x00\\x00\\x00\\x00\\x00\\x00\\x00\\x00\\x00\\x00\\x00\\x00\\x00\\x00\\x00\\x00\\x00\\x00\\x00\\x00\\x00\\x00\\x00\\x00\\x00\\x00\\x00\\x00\\x00\\x00\\x00\\x00\\x00\\x00\\x00\\x00\\x00\\x00\\x00\\x00\\x00\\x00\\x00\\x00\\x00\\x00XTENSION= \\'BINTABLE\\'           / Binary table extension                         BITPIX  =                    8 / 8-bit bytes                                    NAXIS   =                    2 / 2-dimensional binary table                     NAXIS1  =                   20 / Width of table in bytes                        NAXIS2  =                    2 / The number of rows                             PCOUNT  =                    0 / Size of special data area                      GCOUNT  =                    1 / Only one group                                 TFIELDS =                    3 / Number of fields per row                       EXTNAME = \\'lw_limits\\'          / Name of table                                                                                                                  TTYPE1  = \\'NAME    \\'           / Name of limited value                          TFORM1  = \\'12A     \\'           /                                                TUNIT1  = \\'        \\'           /                                                TDISP1  = \\'A       \\'           / %s                                                                                                                             TTYPE2  = \\'LOW     \\'           / Lower limit                                    TFORM2  = \\'1E      \\'           /                                                TUNIT2  = \\'UNKNOWN \\'           /                                                TDISP2  = \\'G15.7   \\'           / %15.7g                                                                                                                         TTYPE3  = \\'HIGH    \\'           / Upper limit                                    TFORM3  = \\'1E      \\'           /                                                TUNIT3  = \\'UNKNOWN \\'           /                                                TDISP3  = \\'G15.7   \\'           / %15.7g                                                                                                                         ORIGIN  = \\'CEA/SSL UC Berkeley\\' / EUVE Science Archive                          CREATOR = \\'STWFITS \\'           / Fitsio version 11-May-1995                     TELESCOP= \\'EUVE    \\'           / Extreme Ultraviolet Explorer                   INSTTYPE= \\'DS/S    \\'           / Instrument type (DS/S, SCANNER)                INSTRUME= \\'DS/S    \\'           / Deep Survey - Spectrometer                     DETNAM  = \\'LW      \\'           / Long Wavelength Spectrometer                   OBJECT  = \\'NGC 4151\\'           / Name of observed object                        RA_OBJ  =    182.6354540000005 / R.A. of the object (degrees)                   DEC_OBJ =    39.40572800000015 / Declination of the object (degrees)            RA_PNT  =    182.9880000000006 / R.A. of the pointing direction (degrees)       DEC_PNT =              39.5477 / Declination of the pointing direction (degrees)RA_PROC =    182.6379100000007 / R.A. used to process data (degrees)            DEC_PROC=             39.41343 / Declination used to process data (degrees)     OBSERVER= \\'A. A. Zdziarski\\'    / Original observing P.I. (EUVE = calibration)   DATE-OBS= \\'30/04/97 GMT\\'       / Start date of observation (dd/mm/yy) 19yy      TIME-OBS= \\'23:51:30 GMT\\'       / Start time of observation (hh:mm:ss GMT)       DATE-END= \\'07/05/97 GMT\\'       / End date of observation (dd/mm/yy) 19yy        TIME-END= \\'09:34:27 GMT\\'       / End time of observation (hh:mm:ss GMT)         OBS_MODE= \\'POINTING\\'           / Inertial pointing mode                         DITHER  = \\'NONE    \\'           / Spacecraft dither type (DITHERED, SPIRAL, NONE)DETMODE = \\'WSZ     \\'           / Detector position conversion mode (WSZ or XY)  OFF-AXIS=                    T / Was this pointing done off-axis                MOVING  =                    F / Did the source position vary during observationDAYNIGHT= \\'NIGHT   \\'           / Day/night data indicator (DAY, NIGHT, BOTH)    VALIDTIM=    201378.8129577704 / Amount of telemetry present (seconds)          RA_UNIT = \\'deg     \\'           / Units for Right Ascension                      DEC_UNIT= \\'deg     \\'           / Units for Declination                          EQUINOX =                2000. / Coordinate equinox                             RADECSYS= \\'FK5     \\'           / Frame of reference of coordinates              TIMESYS = \\'MJD     \\'           / MJD = JD - 2400000.5                           TIMEZERO=                   0. / No time offset required for EUVE event times   TIMEUNIT= \\'s       \\'           / Units for TSTART, TSTOP, TIMEZERO              CLOCKCOR= \\'NO      \\'           / Not corrected to UT                            TIMEREF = \\'LOCAL   \\'           / No corrections applied (barycentric, etc.)     TASSIGN = \\'SATELLITE\\'          / Event times are assigned at the satellite      TSTART  =    913161090.0480012 / Time of start of observation (seconds)         TSTOP   =    913714467.8400012 / Time of end of observation (seconds)           MJDREF  =               40000. / MJD of SC clock start, 24.00 May 1968          EGOCSVER= \\'egocs1.7.1\\'         / Software version used to produce this data     REFVERS = \\'egodata1.15.1\\'      / Reference calibration dataset version used     INHERIT =                    F / Do not inherit cards from the primary header   COMMENT     \\' \\'                                                                 COMMENT     \\'This table contains the limits used to filter the Long\\'            COMMENT     \\'Wavelength spectrometer image for this observation.\\'               COMMENT     \\'The image is in the extension named \"lw\" in this file.\\'            COMMENT     \\' \\'                                                                 END                                                                             lwadct      @@\\x00\\x00C\\x16\\x00\\x00lookzen     \\x00\\x00\\x00\\x00B\\xcc\\x00\\x00\\x00\\x00\\x00\\x00\\x00\\x00\\x00\\x00\\x00\\x00\\x00\\x00\\x00\\x00\\x00\\x00\\x00\\x00\\x00\\x00\\x00\\x00\\x00\\x00\\x00\\x00\\x00\\x00\\x00\\x00\\x00\\x00\\x00\\x00\\x00\\x00\\x00\\x00\\x00\\x00\\x00\\x00\\x00\\x00\\x00\\x00\\x00\\x00\\x00\\x00\\x00\\x00\\x00\\x00\\x00\\x00\\x00\\x00\\x00\\x00\\x00\\x00\\x00\\x00\\x00\\x00\\x00\\x00\\x00\\x00\\x00\\x00\\x00\\x00\\x00\\x00\\x00\\x00\\x00\\x00\\x00\\x00\\x00\\x00\\x00\\x00\\x00\\x00\\x00\\x00\\x00\\x00\\x00\\x00\\x00\\x00\\x00\\x00\\x00\\x00\\x00\\x00\\x00\\x00\\x00\\x00\\x00\\x00\\x00\\x00\\x00\\x00\\x00\\x00\\x00\\x00\\x00\\x00\\x00\\x00\\x00\\x00\\x00\\x00\\x00\\x00\\x00\\x00\\x00\\x00\\x00\\x00\\x00\\x00\\x00\\x00\\x00\\x00\\x00\\x00\\x00\\x00\\x00\\x00\\x00\\x00\\x00\\x00\\x00\\x00\\x00\\x00\\x00\\x00\\x00\\x00\\x00\\x00\\x00\\x00\\x00\\x00\\x00\\x00\\x00\\x00\\x00\\x00\\x00\\x00\\x00\\x00\\x00\\x00\\x00\\x00\\x00\\x00\\x00\\x00\\x00\\x00\\x00\\x00\\x00\\x00\\x00\\x00\\x00\\x00\\x00\\x00\\x00\\x00\\x00\\x00\\x00\\x00\\x00\\x00\\x00\\x00\\x00\\x00\\x00\\x00\\x00\\x00\\x00\\x00\\x00\\x00\\x00\\x00\\x00\\x00\\x00\\x00\\x00\\x00\\x00\\x00\\x00\\x00\\x00\\x00\\x00\\x00\\x00\\x00\\x00\\x00\\x00\\x00\\x00\\x00\\x00\\x00\\x00\\x00\\x00\\x00\\x00\\x00\\x00\\x00\\x00\\x00\\x00\\x00\\x00\\x00\\x00\\x00\\x00\\x00\\x00\\x00\\x00\\x00\\x00\\x00\\x00\\x00\\x00\\x00\\x00\\x00\\x00\\x00\\x00\\x00\\x00\\x00\\x00\\x00\\x00\\x00\\x00\\x00\\x00\\x00\\x00\\x00\\x00\\x00\\x00\\x00\\x00\\x00\\x00\\x00\\x00\\x00\\x00\\x00\\x00\\x00\\x00\\x00\\x00\\x00\\x00\\x00\\x00\\x00\\x00\\x00\\x00\\x00\\x00\\x00\\x00\\x00\\x00\\x00\\x00\\x00\\x00\\x00\\x00\\x00\\x00\\x00\\x00\\x00\\x00\\x00\\x00\\x00\\x00\\x00\\x00\\x00\\x00\\x00\\x00\\x00\\x00\\x00\\x00\\x00\\x00\\x00\\x00\\x00\\x00\\x00\\x00\\x00\\x00\\x00\\x00\\x00\\x00\\x00\\x00\\x00\\x00\\x00\\x00\\x00\\x00\\x00\\x00\\x00\\x00\\x00\\x00\\x00\\x00\\x00\\x00\\x00\\x00\\x00\\x00\\x00\\x00\\x00\\x00\\x00\\x00\\x00\\x00\\x00\\x00\\x00\\x00\\x00\\x00\\x00\\x00\\x00\\x00\\x00\\x00\\x00\\x00\\x00\\x00\\x00\\x00\\x00\\x00\\x00\\x00\\x00\\x00\\x00\\x00\\x00\\x00\\x00\\x00\\x00\\x00\\x00\\x00\\x00\\x00\\x00\\x00\\x00\\x00\\x00\\x00\\x00\\x00\\x00\\x00\\x00\\x00\\x00\\x00\\x00\\x00\\x00\\x00\\x00\\x00\\x00\\x00\\x00\\x00\\x00\\x00\\x00\\x00\\x00\\x00\\x00\\x00\\x00\\x00\\x00\\x00\\x00\\x00\\x00\\x00\\x00\\x00\\x00\\x00\\x00\\x00\\x00\\x00\\x00\\x00\\x00\\x00\\x00\\x00\\x00\\x00\\x00\\x00\\x00\\x00\\x00\\x00\\x00\\x00\\x00\\x00\\x00\\x00\\x00\\x00\\x00\\x00\\x00\\x00\\x00\\x00\\x00\\x00\\x00\\x00\\x00\\x00\\x00\\x00\\x00\\x00\\x00\\x00\\x00\\x00\\x00\\x00\\x00\\x00\\x00\\x00\\x00\\x00\\x00\\x00\\x00\\x00\\x00\\x00\\x00\\x00\\x00\\x00\\x00\\x00\\x00\\x00\\x00\\x00\\x00\\x00\\x00\\x00\\x00\\x00\\x00\\x00\\x00\\x00\\x00\\x00\\x00\\x00\\x00\\x00\\x00\\x00\\x00\\x00\\x00\\x00\\x00\\x00\\x00\\x00\\x00\\x00\\x00\\x00\\x00\\x00\\x00\\x00\\x00\\x00\\x00\\x00\\x00\\x00\\x00\\x00\\x00\\x00\\x00\\x00\\x00\\x00\\x00\\x00\\x00\\x00\\x00\\x00\\x00\\x00\\x00\\x00\\x00\\x00\\x00\\x00\\x00\\x00\\x00\\x00\\x00\\x00\\x00\\x00\\x00\\x00\\x00\\x00\\x00\\x00\\x00\\x00\\x00\\x00\\x00\\x00\\x00\\x00\\x00\\x00\\x00\\x00\\x00\\x00\\x00\\x00\\x00\\x00\\x00\\x00\\x00\\x00\\x00\\x00\\x00\\x00\\x00\\x00\\x00\\x00\\x00\\x00\\x00\\x00\\x00\\x00\\x00\\x00\\x00\\x00\\x00\\x00\\x00\\x00\\x00\\x00\\x00\\x00\\x00\\x00\\x00\\x00\\x00\\x00\\x00\\x00\\x00\\x00\\x00\\x00\\x00\\x00\\x00\\x00\\x00\\x00\\x00\\x00\\x00\\x00\\x00\\x00\\x00\\x00\\x00\\x00\\x00\\x00\\x00\\x00\\x00\\x00\\x00\\x00\\x00\\x00\\x00\\x00\\x00\\x00\\x00\\x00\\x00\\x00\\x00\\x00\\x00\\x00\\x00\\x00\\x00\\x00\\x00\\x00\\x00\\x00\\x00\\x00\\x00\\x00\\x00\\x00\\x00\\x00\\x00\\x00\\x00\\x00\\x00\\x00\\x00\\x00\\x00\\x00\\x00\\x00\\x00\\x00\\x00\\x00\\x00\\x00\\x00\\x00\\x00\\x00\\x00\\x00\\x00\\x00\\x00\\x00\\x00\\x00\\x00\\x00\\x00\\x00\\x00\\x00\\x00\\x00\\x00\\x00\\x00\\x00\\x00\\x00\\x00\\x00\\x00\\x00\\x00\\x00\\x00\\x00\\x00\\x00\\x00\\x00\\x00\\x00\\x00\\x00\\x00\\x00\\x00\\x00\\x00\\x00\\x00\\x00\\x00\\x00\\x00\\x00\\x00\\x00\\x00\\x00\\x00\\x00\\x00\\x00\\x00\\x00\\x00\\x00\\x00\\x00\\x00\\x00\\x00\\x00\\x00\\x00\\x00\\x00\\x00\\x00\\x00\\x00\\x00\\x00\\x00\\x00\\x00\\x00\\x00\\x00\\x00\\x00\\x00\\x00\\x00\\x00\\x00\\x00\\x00\\x00\\x00\\x00\\x00\\x00\\x00\\x00\\x00\\x00\\x00\\x00\\x00\\x00\\x00\\x00\\x00\\x00\\x00\\x00\\x00\\x00\\x00\\x00\\x00\\x00\\x00\\x00\\x00\\x00\\x00\\x00\\x00\\x00\\x00\\x00\\x00\\x00\\x00\\x00\\x00\\x00\\x00\\x00\\x00\\x00\\x00\\x00\\x00\\x00\\x00\\x00\\x00\\x00\\x00\\x00\\x00\\x00\\x00\\x00\\x00\\x00\\x00\\x00\\x00\\x00\\x00\\x00\\x00\\x00\\x00\\x00\\x00\\x00\\x00\\x00\\x00\\x00\\x00\\x00\\x00\\x00\\x00\\x00\\x00\\x00\\x00\\x00\\x00\\x00\\x00\\x00\\x00\\x00\\x00\\x00\\x00\\x00\\x00\\x00\\x00\\x00\\x00\\x00\\x00\\x00\\x00\\x00\\x00\\x00\\x00\\x00\\x00\\x00\\x00\\x00\\x00\\x00\\x00\\x00\\x00\\x00\\x00\\x00\\x00\\x00\\x00\\x00\\x00\\x00\\x00\\x00\\x00\\x00\\x00\\x00\\x00\\x00\\x00\\x00\\x00\\x00\\x00\\x00\\x00\\x00\\x00\\x00\\x00\\x00\\x00\\x00\\x00\\x00\\x00\\x00\\x00\\x00\\x00\\x00\\x00\\x00\\x00\\x00\\x00\\x00\\x00\\x00\\x00\\x00\\x00\\x00\\x00\\x00\\x00\\x00\\x00\\x00\\x00\\x00\\x00\\x00\\x00\\x00\\x00\\x00\\x00\\x00\\x00\\x00\\x00\\x00\\x00\\x00\\x00\\x00\\x00\\x00\\x00\\x00\\x00\\x00\\x00\\x00\\x00\\x00\\x00\\x00\\x00\\x00\\x00\\x00\\x00\\x00\\x00\\x00\\x00\\x00\\x00\\x00\\x00\\x00\\x00\\x00\\x00\\x00\\x00\\x00\\x00\\x00\\x00\\x00\\x00\\x00\\x00\\x00\\x00\\x00\\x00\\x00\\x00\\x00\\x00\\x00\\x00\\x00\\x00\\x00\\x00\\x00\\x00\\x00\\x00\\x00\\x00\\x00\\x00\\x00\\x00\\x00\\x00\\x00\\x00\\x00\\x00\\x00\\x00\\x00\\x00\\x00\\x00\\x00\\x00\\x00\\x00\\x00\\x00\\x00\\x00\\x00\\x00\\x00\\x00\\x00\\x00\\x00\\x00\\x00\\x00\\x00\\x00\\x00\\x00\\x00\\x00\\x00\\x00\\x00\\x00\\x00\\x00\\x00\\x00\\x00\\x00\\x00\\x00\\x00\\x00\\x00\\x00\\x00\\x00\\x00\\x00\\x00\\x00\\x00\\x00\\x00\\x00\\x00\\x00\\x00\\x00\\x00\\x00\\x00\\x00\\x00\\x00\\x00\\x00\\x00\\x00\\x00\\x00\\x00\\x00\\x00\\x00\\x00\\x00\\x00\\x00\\x00\\x00\\x00\\x00\\x00\\x00\\x00\\x00\\x00\\x00\\x00\\x00\\x00\\x00\\x00\\x00\\x00\\x00\\x00\\x00\\x00\\x00\\x00\\x00\\x00\\x00\\x00\\x00\\x00\\x00\\x00\\x00\\x00\\x00\\x00\\x00\\x00\\x00\\x00\\x00\\x00\\x00\\x00\\x00\\x00\\x00\\x00\\x00\\x00\\x00\\x00\\x00\\x00\\x00\\x00\\x00\\x00\\x00\\x00\\x00\\x00\\x00\\x00\\x00\\x00\\x00\\x00\\x00\\x00\\x00\\x00\\x00\\x00\\x00\\x00\\x00\\x00\\x00\\x00\\x00\\x00\\x00\\x00\\x00\\x00\\x00\\x00\\x00\\x00\\x00\\x00\\x00\\x00\\x00\\x00\\x00\\x00\\x00\\x00\\x00\\x00\\x00\\x00\\x00\\x00\\x00\\x00\\x00\\x00\\x00\\x00\\x00\\x00\\x00\\x00\\x00\\x00\\x00\\x00\\x00\\x00\\x00\\x00\\x00\\x00\\x00\\x00\\x00\\x00\\x00\\x00\\x00\\x00\\x00\\x00\\x00\\x00\\x00\\x00\\x00\\x00\\x00\\x00\\x00\\x00\\x00\\x00\\x00\\x00\\x00\\x00\\x00\\x00\\x00\\x00\\x00\\x00\\x00\\x00\\x00\\x00\\x00\\x00\\x00\\x00\\x00\\x00\\x00\\x00\\x00\\x00\\x00\\x00\\x00\\x00\\x00\\x00\\x00\\x00\\x00\\x00\\x00\\x00\\x00\\x00\\x00\\x00\\x00\\x00\\x00\\x00\\x00\\x00\\x00\\x00\\x00\\x00\\x00\\x00\\x00\\x00\\x00\\x00\\x00\\x00\\x00\\x00\\x00\\x00\\x00\\x00\\x00\\x00\\x00\\x00\\x00\\x00\\x00\\x00\\x00\\x00\\x00\\x00\\x00\\x00\\x00\\x00\\x00\\x00\\x00\\x00\\x00\\x00\\x00\\x00\\x00\\x00\\x00\\x00\\x00\\x00\\x00\\x00\\x00\\x00\\x00\\x00\\x00\\x00\\x00\\x00\\x00\\x00\\x00\\x00\\x00\\x00\\x00\\x00\\x00\\x00\\x00\\x00\\x00\\x00\\x00\\x00\\x00\\x00\\x00\\x00\\x00\\x00\\x00\\x00\\x00\\x00\\x00\\x00\\x00\\x00\\x00\\x00\\x00\\x00\\x00\\x00\\x00\\x00\\x00\\x00\\x00\\x00\\x00\\x00\\x00\\x00\\x00\\x00\\x00\\x00\\x00\\x00\\x00\\x00\\x00\\x00\\x00\\x00\\x00\\x00\\x00\\x00\\x00\\x00\\x00\\x00\\x00\\x00\\x00\\x00\\x00\\x00\\x00\\x00\\x00\\x00\\x00\\x00\\x00\\x00\\x00\\x00\\x00\\x00\\x00\\x00\\x00\\x00\\x00\\x00\\x00\\x00\\x00\\x00\\x00\\x00\\x00\\x00\\x00\\x00\\x00\\x00\\x00\\x00\\x00\\x00\\x00\\x00\\x00\\x00\\x00\\x00\\x00\\x00\\x00\\x00\\x00\\x00\\x00\\x00\\x00\\x00\\x00\\x00\\x00\\x00\\x00\\x00\\x00\\x00\\x00\\x00\\x00\\x00\\x00\\x00\\x00\\x00\\x00\\x00\\x00\\x00\\x00\\x00\\x00\\x00\\x00\\x00\\x00\\x00\\x00\\x00\\x00\\x00\\x00\\x00\\x00\\x00\\x00\\x00\\x00\\x00\\x00\\x00\\x00\\x00\\x00\\x00\\x00\\x00\\x00\\x00\\x00\\x00\\x00\\x00\\x00\\x00\\x00\\x00\\x00\\x00\\x00\\x00\\x00\\x00\\x00\\x00\\x00\\x00\\x00\\x00\\x00\\x00\\x00\\x00\\x00\\x00\\x00\\x00\\x00\\x00\\x00\\x00\\x00\\x00\\x00\\x00\\x00\\x00\\x00\\x00\\x00\\x00\\x00\\x00\\x00\\x00\\x00\\x00\\x00\\x00\\x00\\x00\\x00\\x00\\x00\\x00\\x00\\x00\\x00\\x00\\x00\\x00\\x00\\x00\\x00\\x00\\x00\\x00\\x00\\x00\\x00\\x00\\x00\\x00\\x00\\x00\\x00\\x00\\x00\\x00\\x00\\x00\\x00\\x00\\x00\\x00\\x00\\x00\\x00\\x00\\x00\\x00\\x00\\x00\\x00\\x00\\x00\\x00\\x00\\x00\\x00\\x00\\x00\\x00\\x00\\x00\\x00\\x00\\x00\\x00\\x00\\x00\\x00\\x00\\x00\\x00\\x00\\x00\\x00\\x00\\x00\\x00\\x00\\x00\\x00\\x00\\x00\\x00\\x00\\x00\\x00\\x00\\x00\\x00\\x00\\x00\\x00\\x00\\x00\\x00\\x00\\x00\\x00\\x00\\x00\\x00\\x00\\x00\\x00\\x00\\x00\\x00\\x00\\x00\\x00\\x00\\x00\\x00\\x00\\x00\\x00\\x00\\x00\\x00\\x00\\x00\\x00\\x00\\x00\\x00\\x00\\x00\\x00\\x00\\x00\\x00\\x00\\x00\\x00\\x00\\x00\\x00\\x00\\x00\\x00\\x00\\x00\\x00\\x00\\x00\\x00\\x00\\x00\\x00\\x00\\x00\\x00\\x00\\x00\\x00\\x00\\x00\\x00\\x00\\x00\\x00\\x00\\x00\\x00\\x00\\x00\\x00\\x00\\x00\\x00\\x00\\x00\\x00\\x00\\x00\\x00\\x00\\x00\\x00\\x00\\x00\\x00\\x00\\x00\\x00\\x00\\x00\\x00\\x00\\x00\\x00\\x00\\x00\\x00\\x00\\x00\\x00\\x00\\x00\\x00\\x00\\x00\\x00\\x00\\x00\\x00\\x00\\x00\\x00\\x00\\x00\\x00\\x00\\x00\\x00\\x00\\x00\\x00\\x00\\x00\\x00\\x00\\x00\\x00\\x00\\x00\\x00\\x00\\x00\\x00\\x00\\x00\\x00\\x00\\x00\\x00\\x00\\x00\\x00\\x00\\x00\\x00\\x00\\x00\\x00\\x00\\x00\\x00\\x00\\x00\\x00\\x00\\x00\\x00\\x00\\x00\\x00\\x00\\x00\\x00\\x00\\x00\\x00\\x00\\x00\\x00\\x00\\x00\\x00\\x00\\x00\\x00\\x00\\x00\\x00\\x00\\x00\\x00\\x00\\x00\\x00\\x00\\x00\\x00\\x00\\x00\\x00\\x00\\x00\\x00\\x00\\x00\\x00\\x00\\x00\\x00\\x00\\x00\\x00\\x00\\x00\\x00\\x00\\x00\\x00\\x00\\x00\\x00\\x00\\x00\\x00\\x00\\x00\\x00\\x00\\x00\\x00\\x00\\x00\\x00\\x00\\x00\\x00\\x00\\x00\\x00\\x00\\x00\\x00\\x00\\x00\\x00\\x00\\x00\\x00\\x00\\x00\\x00\\x00\\x00\\x00\\x00\\x00\\x00\\x00\\x00\\x00\\x00\\x00\\x00\\x00\\x00\\x00\\x00\\x00\\x00\\x00\\x00\\x00\\x00\\x00\\x00\\x00\\x00\\x00\\x00\\x00\\x00\\x00\\x00\\x00\\x00\\x00\\x00\\x00\\x00\\x00\\x00\\x00\\x00\\x00\\x00\\x00\\x00\\x00\\x00\\x00\\x00\\x00\\x00\\x00\\x00\\x00\\x00\\x00\\x00\\x00\\x00\\x00\\x00\\x00\\x00\\x00\\x00\\x00\\x00\\x00\\x00\\x00\\x00\\x00\\x00\\x00\\x00\\x00\\x00\\x00\\x00\\x00\\x00\\x00\\x00\\x00\\x00\\x00\\x00\\x00\\x00\\x00\\x00\\x00\\x00\\x00\\x00\\x00\\x00\\x00\\x00\\x00\\x00\\x00\\x00\\x00\\x00\\x00\\x00\\x00\\x00\\x00\\x00\\x00\\x00\\x00\\x00\\x00\\x00\\x00\\x00\\x00\\x00\\x00\\x00\\x00\\x00\\x00\\x00\\x00\\x00\\x00\\x00\\x00\\x00\\x00\\x00\\x00\\x00\\x00\\x00\\x00\\x00\\x00\\x00\\x00\\x00\\x00\\x00\\x00\\x00\\x00\\x00\\x00\\x00\\x00\\x00\\x00\\x00\\x00\\x00\\x00\\x00\\x00\\x00\\x00\\x00\\x00\\x00\\x00\\x00\\x00\\x00\\x00\\x00\\x00\\x00\\x00\\x00\\x00\\x00\\x00\\x00\\x00\\x00\\x00\\x00\\x00\\x00\\x00\\x00\\x00\\x00\\x00\\x00\\x00\\x00\\x00\\x00\\x00\\x00\\x00\\x00\\x00\\x00\\x00\\x00\\x00\\x00\\x00\\x00\\x00\\x00\\x00\\x00\\x00\\x00\\x00\\x00\\x00\\x00\\x00\\x00\\x00\\x00\\x00\\x00\\x00\\x00\\x00\\x00\\x00\\x00\\x00\\x00\\x00\\x00\\x00\\x00\\x00\\x00\\x00\\x00\\x00\\x00\\x00\\x00\\x00\\x00\\x00\\x00\\x00\\x00\\x00\\x00\\x00\\x00\\x00\\x00\\x00\\x00\\x00\\x00\\x00\\x00\\x00\\x00\\x00\\x00\\x00\\x00\\x00\\x00\\x00\\x00\\x00\\x00\\x00\\x00\\x00\\x00\\x00\\x00\\x00\\x00\\x00\\x00\\x00\\x00\\x00\\x00\\x00\\x00\\x00\\x00\\x00\\x00\\x00\\x00\\x00\\x00\\x00\\x00\\x00\\x00\\x00\\x00\\x00\\x00\\x00\\x00\\x00\\x00\\x00\\x00\\x00\\x00\\x00\\x00\\x00\\x00\\x00\\x00\\x00\\x00\\x00\\x00\\x00\\x00\\x00\\x00\\x00\\x00\\x00\\x00\\x00\\x00\\x00\\x00\\x00\\x00\\x00\\x00\\x00\\x00\\x00\\x00\\x00\\x00\\x00\\x00\\x00\\x00\\x00\\x00\\x00\\x00\\x00\\x00\\x00\\x00\\x00\\x00\\x00\\x00\\x00\\x00\\x00\\x00\\x00\\x00\\x00\\x00\\x00\\x00\\x00\\x00\\x00\\x00\\x00\\x00\\x00\\x00\\x00\\x00\\x00\\x00\\x00\\x00\\x00\\x00\\x00\\x00\\x00\\x00\\x00\\x00\\x00\\x00\\x00\\x00\\x00\\x00\\x00\\x00\\x00\\x00\\x00\\x00\\x00\\x00\\x00\\x00\\x00\\x00\\x00\\x00\\x00\\x00\\x00\\x00\\x00\\x00\\x00\\x00\\x00\\x00\\x00\\x00\\x00\\x00\\x00\\x00\\x00\\x00\\x00\\x00\\x00\\x00\\x00\\x00\\x00\\x00\\x00\\x00\\x00\\x00\\x00\\x00\\x00\\x00\\x00\\x00\\x00\\x00\\x00\\x00\\x00\\x00\\x00\\x00\\x00\\x00\\x00\\x00\\x00\\x00\\x00\\x00\\x00\\x00\\x00\\x00\\x00\\x00\\x00\\x00\\x00\\x00\\x00\\x00\\x00\\x00\\x00\\x00\\x00\\x00\\x00\\x00\\x00\\x00\\x00\\x00\\x00\\x00\\x00\\x00\\x00\\x00\\x00\\x00\\x00\\x00\\x00\\x00\\x00\\x00\\x00\\x00\\x00\\x00\\x00\\x00\\x00\\x00\\x00\\x00\\x00\\x00\\x00\\x00\\x00\\x00\\x00\\x00\\x00\\x00\\x00\\x00\\x00\\x00\\x00\\x00\\x00\\x00\\x00\\x00\\x00\\x00\\x00\\x00\\x00\\x00\\x00\\x00\\x00\\x00\\x00\\x00\\x00\\x00\\x00\\x00\\x00\\x00\\x00\\x00\\x00\\x00\\x00\\x00\\x00\\x00\\x00\\x00\\x00\\x00\\x00\\x00\\x00\\x00\\x00\\x00\\x00\\x00\\x00\\x00\\x00\\x00\\x00\\x00\\x00\\x00\\x00\\x00\\x00\\x00\\x00\\x00\\x00\\x00\\x00\\x00\\x00\\x00\\x00\\x00\\x00\\x00\\x00\\x00\\x00\\x00\\x00\\x00\\x00\\x00\\x00\\x00\\x00\\x00\\x00\\x00\\x00\\x00\\x00\\x00\\x00\\x00\\x00\\x00\\x00\\x00\\x00\\x00\\x00\\x00\\x00\\x00\\x00\\x00\\x00\\x00\\x00\\x00\\x00\\x00\\x00\\x00\\x00\\x00\\x00\\x00\\x00\\x00\\x00\\x00\\x00\\x00\\x00\\x00\\x00\\x00\\x00\\x00\\x00\\x00\\x00\\x00\\x00\\x00\\x00\\x00\\x00\\x00\\x00\\x00\\x00\\x00\\x00\\x00\\x00\\x00\\x00\\x00\\x00\\x00\\x00\\x00\\x00\\x00\\x00\\x00\\x00\\x00\\x00\\x00\\x00\\x00\\x00\\x00\\x00\\x00\\x00\\x00\\x00\\x00\\x00\\x00\\x00\\x00\\x00\\x00\\x00\\x00\\x00\\x00\\x00\\x00\\x00\\x00\\x00\\x00\\x00\\x00\\x00\\x00\\x00\\x00\\x00\\x00\\x00\\x00\\x00\\x00\\x00\\x00\\x00\\x00\\x00\\x00\\x00\\x00\\x00\\x00\\x00\\x00\\x00\\x00\\x00\\x00\\x00\\x00\\x00\\x00\\x00\\x00\\x00\\x00\\x00\\x00\\x00\\x00\\x00\\x00\\x00\\x00\\x00\\x00\\x00\\x00\\x00\\x00\\x00\\x00\\x00\\x00\\x00\\x00\\x00\\x00\\x00\\x00\\x00\\x00\\x00\\x00\\x00\\x00\\x00\\x00\\x00\\x00\\x00\\x00\\x00\\x00\\x00\\x00\\x00\\x00\\x00\\x00\\x00\\x00\\x00\\x00\\x00\\x00\\x00\\x00\\x00\\x00\\x00\\x00\\x00\\x00\\x00\\x00\\x00\\x00\\x00\\x00\\x00\\x00\\x00\\x00\\x00\\x00\\x00\\x00\\x00\\x00\\x00\\x00\\x00\\x00\\x00\\x00\\x00\\x00\\x00\\x00\\x00\\x00\\x00\\x00\\x00\\x00\\x00\\x00\\x00\\x00\\x00\\x00\\x00\\x00\\x00\\x00\\x00\\x00'"
      ]
     },
     "execution_count": 27,
     "metadata": {},
     "output_type": "execute_result"
    }
   ],
   "source": [
    "second_hdu_bytes"
   ]
  },
  {
   "cell_type": "code",
   "execution_count": 20,
   "metadata": {},
   "outputs": [
    {
     "name": "stderr",
     "output_type": "stream",
     "text": [
      "WARNING: VerifyWarning: Invalid keyword for column 1: Column disp option (TDISPn) failed verification: Format A is not recognized. The invalid value will be ignored for the purpose of formatting the data in this column. [astropy.io.fits.column]\n",
      "WARNING: UnitsWarning: 'UNKNOWN' did not parse as fits unit: At col 0, Unit 'UNKNOWN' not supported by the FITS standard.  If this is meant to be a custom unit, define it with 'u.def_unit'. To have it recognized inside a file reader or other code, enable it with 'u.add_enabled_units'. For details, see https://docs.astropy.org/en/latest/units/combining_and_defining.html [astropy.units.core]\n"
     ]
    },
    {
     "data": {
      "text/html": [
       "<div><i>Table length=3</i>\n",
       "<table id=\"table4534680544\" class=\"table-striped table-bordered table-condensed\">\n",
       "<thead><tr><th>NAME</th><th>LOW</th><th>HIGH</th></tr></thead>\n",
       "<thead><tr><th></th><th>UNKNOWN</th><th>UNKNOWN</th></tr></thead>\n",
       "<thead><tr><th>bytes8</th><th>float32</th><th>float32</th></tr></thead>\n",
       "<tr><td>dsq1sf</td><td>0</td><td>50</td></tr>\n",
       "<tr><td>dsadct</td><td>3</td><td>5000</td></tr>\n",
       "<tr><td>lookzen</td><td>0</td><td>102</td></tr>\n",
       "</table></div>"
      ],
      "text/plain": [
       "<Table length=3>\n",
       "  NAME         LOW             HIGH     \n",
       "             UNKNOWN         UNKNOWN    \n",
       " bytes8      float32         float32    \n",
       "-------- --------------- ---------------\n",
       "dsq1sf                 0              50\n",
       "dsadct                 3            5000\n",
       "lookzen                0             102"
      ]
     },
     "execution_count": 20,
     "metadata": {},
     "output_type": "execute_result"
    }
   ],
   "source": [
    "Table.read(\"../tests/data/EUVEngc4151imgx.fits\", hdu=1)"
   ]
  },
  {
   "cell_type": "code",
   "execution_count": 44,
   "metadata": {},
   "outputs": [],
   "source": [
    "data_second_hdu = bytes[2880 * 4: ]"
   ]
  },
  {
   "cell_type": "code",
   "execution_count": 21,
   "metadata": {},
   "outputs": [],
   "source": [
    "class Column:\n",
    "    number: int\n",
    "    ttype: str\n",
    "    tform: bytes\n",
    "    \n",
    "    def __init__(self, number, ttype, tform, tbcol):\n",
    "        self.number = number\n",
    "        self.ttype = ttype\n",
    "        self.tform = tform\n",
    "        self.tbcol = tbcol\n",
    "        self.values = []\n",
    "    \n",
    "    def print(self):\n",
    "        print(f\"Column {self.number}: {self.ttype} {self.tform} {self.values}\")"
   ]
  },
  {
   "cell_type": "code",
   "execution_count": 22,
   "metadata": {},
   "outputs": [],
   "source": [
    "header = hdus[1].header\n",
    "columns = []\n",
    "for i in range(1, header[\"TFIELDS\"] + 1):\n",
    "    columns.append(Column(i, header[\"TTYPE\" + str(i)], header[\"TFORM\" + str(i)], header[\"TBCOL\" + str(i)]))"
   ]
  },
  {
   "cell_type": "code",
   "execution_count": 23,
   "metadata": {},
   "outputs": [],
   "source": [
    "## if tform is E15.2 I want to get the 15\n",
    "def get_tform_type_size(tform):\n",
    "    if len(tform.strip()) == 1:\n",
    "        size = None\n",
    "    else:\n",
    "        size = int(tform[1:].split(\".\")[0])\n",
    "        \n",
    "    return tform[:1], size"
   ]
  },
  {
   "cell_type": "code",
   "execution_count": 24,
   "metadata": {},
   "outputs": [],
   "source": [
    "pos = 0\n",
    "\n",
    "for line in range(1, header[\"NAXIS2\"]):\n",
    "    for key, column in enumerate(columns):\n",
    "        typ, size = get_tform_type_size(column.tform)\n",
    "        \n",
    "        if typ == \"D\":\n",
    "            column.values.append(float(data_second_hdu[pos:pos + size]))\n",
    "        elif typ == \"E\":\n",
    "            column.values.append(float(data_second_hdu[pos:pos + size]))\n",
    "        elif typ == \"I\":\n",
    "            column.values.append(int(data_second_hdu[pos:pos + size]))\n",
    "        elif typ == \"A\":\n",
    "            column.values.append(data_second_hdu[pos:pos + size].decode(\"ascii\"))\n",
    "        else:\n",
    "            column.values.append(data_second_hdu[pos:pos + size])\n",
    "        \n",
    "        pos += size + 1"
   ]
  },
  {
   "cell_type": "code",
   "execution_count": 25,
   "metadata": {},
   "outputs": [
    {
     "name": "stdout",
     "output_type": "stream",
     "text": [
      "Column 2: CRVAL2 D25.17 [39.39633673411, 39.41214313815, 39.410944281389995]\n"
     ]
    }
   ],
   "source": [
    "columns[1].print()"
   ]
  },
  {
   "cell_type": "code",
   "execution_count": 26,
   "metadata": {},
   "outputs": [
    {
     "name": "stderr",
     "output_type": "stream",
     "text": [
      "WARNING: VerifyWarning: Invalid keyword for column 11: Column disp option (TDISPn) may not use the 'L' format with ASCII table columns.  The invalid value will be ignored for the purpose of formatting the data in this column. [astropy.io.fits.column]\n",
      "WARNING: UnitsWarning: 'LOGICAL-' did not parse as fits unit: At col 0, Unit 'LOGICAL' not supported by the FITS standard.  If this is meant to be a custom unit, define it with 'u.def_unit'. To have it recognized inside a file reader or other code, enable it with 'u.add_enabled_units'. For details, see https://docs.astropy.org/en/latest/units/combining_and_defining.html [astropy.units.core]\n",
      "WARNING: UnitsWarning: 'CHARACTER*8' did not parse as fits unit: At col 0, Unit 'CHARACTER' not supported by the FITS standard.  If this is meant to be a custom unit, define it with 'u.def_unit'. To have it recognized inside a file reader or other code, enable it with 'u.add_enabled_units'. For details, see https://docs.astropy.org/en/latest/units/combining_and_defining.html [astropy.units.core]\n",
      "WARNING: UnitsWarning: 'CHARACTER*48' did not parse as fits unit: At col 0, Unit 'CHARACTER' not supported by the FITS standard.  If this is meant to be a custom unit, define it with 'u.def_unit'. To have it recognized inside a file reader or other code, enable it with 'u.add_enabled_units'. For details, see https://docs.astropy.org/en/latest/units/combining_and_defining.html [astropy.units.core]\n"
     ]
    },
    {
     "data": {
      "text/html": [
       "<div><i>Table length=4</i>\n",
       "<table id=\"table4701249008\" class=\"table-striped table-bordered table-condensed\">\n",
       "<thead><tr><th>CRVAL1</th><th>CRVAL2</th><th>CRPIX1</th><th>CRPIX2</th><th>CD1_1</th><th>CD1_2</th><th>CD2_1</th><th>CD2_2</th><th>DATAMIN</th><th>DATAMAX</th><th>MIR_REVR</th><th>ORIENTAT</th><th>FILLCNT</th><th>ERRCNT</th><th>FPKTTIME</th><th>LPKTTIME</th><th>CTYPE1</th><th>CTYPE2</th><th>DETECTOR</th><th>DEZERO</th><th>BIASEVEN</th><th>BIASODD</th><th>GOODMIN</th><th>GOODMAX</th><th>DATAMEAN</th><th>GPIXELS</th><th>SOFTERRS</th><th>CALIBDEF</th><th>STATICD</th><th>ATODSAT</th><th>DATALOST</th><th>BADPIXEL</th><th>OVERLAP</th><th>PHOTMODE</th><th>PHOTFLAM</th><th>PHOTZPT</th><th>PHOTPLAM</th><th>PHOTBW</th><th>MEDIAN</th><th>MEDSHADO</th><th>HISTWIDE</th><th>SKEWNESS</th><th>MEANC10</th><th>MEANC25</th><th>MEANC50</th><th>MEANC100</th><th>MEANC200</th><th>MEANC300</th><th>BACKGRND</th></tr></thead>\n",
       "<thead><tr><th></th><th></th><th></th><th></th><th></th><th></th><th></th><th></th><th></th><th></th><th>LOGICAL-</th><th></th><th></th><th></th><th></th><th></th><th>CHARACTER*8</th><th>CHARACTER*8</th><th></th><th></th><th></th><th></th><th></th><th></th><th></th><th></th><th></th><th></th><th></th><th></th><th></th><th></th><th></th><th>CHARACTER*48</th><th></th><th></th><th></th><th></th><th></th><th></th><th></th><th></th><th></th><th></th><th></th><th></th><th></th><th></th><th></th></tr></thead>\n",
       "<thead><tr><th>float64</th><th>float64</th><th>float64</th><th>float64</th><th>float64</th><th>float64</th><th>float64</th><th>float64</th><th>float64</th><th>float64</th><th>bytes1</th><th>float64</th><th>int64</th><th>int64</th><th>float64</th><th>float64</th><th>bytes8</th><th>bytes8</th><th>int64</th><th>float64</th><th>float64</th><th>float64</th><th>float64</th><th>float64</th><th>float64</th><th>int64</th><th>int64</th><th>int64</th><th>int64</th><th>int64</th><th>int64</th><th>int64</th><th>int64</th><th>bytes48</th><th>float64</th><th>float64</th><th>float64</th><th>float64</th><th>float64</th><th>float64</th><th>float64</th><th>float64</th><th>float64</th><th>float64</th><th>float64</th><th>float64</th><th>float64</th><th>float64</th><th>float64</th></tr></thead>\n",
       "<tr><td>182.6311886308</td><td>39.39633673411</td><td>420</td><td>424.5</td><td>-1.06704e-06</td><td>-1.25958e-05</td><td>-1.26016e-05</td><td>1.06655e-06</td><td>-73.19537</td><td>3777.701</td><td>T</td><td>-85.16</td><td>0</td><td>0</td><td>51229.79857399999</td><td>51229.79874200001</td><td>RA---TAN</td><td>DEC--TAN</td><td>1</td><td>316.6452</td><td>316.6715</td><td>316.6189</td><td>-5.064006</td><td>2552.17</td><td>0.4182382</td><td>632387</td><td>0</td><td>1466</td><td>0</td><td>16</td><td>0</td><td>0</td><td>0</td><td>WFPC2,1,A2D7,LRF#4877.0,,CAL</td><td>3.44746e-16</td><td>-21.1</td><td>4884.258</td><td>20.20996</td><td>-0.175651</td><td>-0.121681</td><td>1.033711</td><td>-1.983727</td><td>0.12958</td><td>0.3129676</td><td>0.4577668</td><td>0.3916293</td><td>0.3115222</td><td>0.3295493</td><td>-0.3676353</td></tr>\n",
       "<tr><td>182.6255233634</td><td>39.41214313815</td><td>423.5</td><td>414</td><td>-2.75605e-05</td><td>2.08221e-06</td><td>2.08021e-06</td><td>2.75871e-05</td><td>-19.95751</td><td>3740.623</td><td>T</td><td>4.31638</td><td>0</td><td>0</td><td>51229.79874200001</td><td>51229.79891000002</td><td>RA---TAN</td><td>DEC--TAN</td><td>2</td><td>354.0573</td><td>354.0761</td><td>354.0386</td><td>-3.379329</td><td>3720.573</td><td>0.6385469</td><td>631340</td><td>0</td><td>2072</td><td>0</td><td>25</td><td>0</td><td>0</td><td>0</td><td>WFPC2,2,A2D7,LRF#4877.0,,CAL</td><td>3.382652e-16</td><td>-21.1</td><td>4884.261</td><td>20.20992</td><td>-0.1896807</td><td>-0.1899146</td><td>1.053666</td><td>-1.947547</td><td>0.2564496</td><td>0.1057321</td><td>0.9952926</td><td>0.8409855</td><td>0.6534808</td><td>0.5836062</td><td>0.2101429</td></tr>\n",
       "<tr><td>182.6523792305</td><td>39.41094428138999</td><td>436</td><td>424.5</td><td>2.23913e-06</td><td>2.75426e-05</td><td>2.75684e-05</td><td>-2.23704e-06</td><td>-58.53249</td><td>3282.136</td><td>T</td><td>94.6434</td><td>0</td><td>0</td><td>51229.79891000002</td><td>51229.799078</td><td>RA---TAN</td><td>DEC--TAN</td><td>3</td><td>306.6676</td><td>306.6541</td><td>306.681</td><td>-3.713645</td><td>3282.136</td><td>0.5217843</td><td>633259</td><td>0</td><td>1551</td><td>0</td><td>7</td><td>0</td><td>0</td><td>0</td><td>WFPC2,3,A2D7,LRF#4877.0,,CAL</td><td>3.372288e-16</td><td>-21.1</td><td>4884.255</td><td>20.21006</td><td>0.01109185</td><td>0.06184989</td><td>1.003236</td><td>28.21703</td><td>1.669304</td><td>0.3472891</td><td>0.327215</td><td>0.6145074</td><td>0.7027547</td><td>0.5681439</td><td>0.4761558</td></tr>\n",
       "<tr><td>182.650022355</td><td>39.38946044168</td><td>423</td><td>421</td><td>2.75358e-05</td><td>-2.50931e-06</td><td>-2.50689e-06</td><td>-2.75624e-05</td><td>-72.41166</td><td>3420.24</td><td>T</td><td>-174.798</td><td>0</td><td>0</td><td>51229.799079</td><td>51229.79924599999</td><td>RA---TAN</td><td>DEC--TAN</td><td>4</td><td>311.7072</td><td>311.7648</td><td>311.6496</td><td>-3.289304</td><td>3420.24</td><td>0.7084697</td><td>628289</td><td>0</td><td>1816</td><td>0</td><td>57</td><td>0</td><td>0</td><td>0</td><td>WFPC2,4,A2D7,LRF#4877.0,,CAL</td><td>3.46466e-16</td><td>-21.1</td><td>4884.256</td><td>20.20999</td><td>-0.06813275</td><td>-0.03253493</td><td>0.9846212</td><td>-4.591252</td><td>0.1359666</td><td>0.04015671</td><td>0.1129934</td><td>1.897491</td><td>0.9687142</td><td>1.05377</td><td>0.3466465</td></tr>\n",
       "</table></div>"
      ],
      "text/plain": [
       "<Table length=4>\n",
       "          CRVAL1                    CRVAL2          ...     BACKGRND   \n",
       "                                                    ...                \n",
       "         float64                   float64          ...     float64    \n",
       "------------------------- ------------------------- ... ---------------\n",
       "           182.6311886308            39.39633673411 ...      -0.3676353\n",
       "           182.6255233634            39.41214313815 ...       0.2101429\n",
       "           182.6523792305         39.41094428138999 ...       0.4761558\n",
       "            182.650022355            39.38946044168 ...       0.3466465"
      ]
     },
     "execution_count": 26,
     "metadata": {},
     "output_type": "execute_result"
    }
   ],
   "source": [
    "from astropy.table import Table\n",
    "t = Table.read(\"../tests/data/WFPC2u57.fits\", format=\"fits\")\n",
    "t"
   ]
  },
  {
   "cell_type": "code",
   "execution_count": 27,
   "metadata": {},
   "outputs": [
    {
     "data": {
      "text/plain": [
       "b' 1.8262552336340000E2      3.9412143138150002E1      4.235000E2      4.140000E2    -2.756050E-5     2.082210E-6     2.080210E-6     2.758710E-5     -1.995751E1      3.740623E3 T      4.316380E0            0            0      5.1229798742000003E4      5.1229798910000017E4 RA---TAN DEC--TAN            2      3.540573E2      3.540761E2      3.540386E2     -3.379329E0      3.720573E3     6.385469E-1       631340            0         2072            0           25            0            0            0 WFPC2,2,A2D7,LRF#4877.0,,CAL                        3.382652E-16     -2.110000E1      4.884261E3      2.020992E1    -1.896807E-1    -1.899146E-1      1.053666E0     -1.947547E0     2.564496E-1     1.057321E-1     9.952926E-1     8.409855E-1     6.534808E-1     5.836062E-1     2.101429E-1      1.8265237923050001E2      3.9410944281389994E1      4.360000E2      4.245000E2     2.239130E-6     2.754260E-5     2.756840E-5    -2.237040E-6     -5.853249E1      3.282136E3 T      9.464340E1            0            0      5.1229798910000017E4      5.1229799077999995E4 RA---TAN DEC--TAN            3      3.066676E2      3.066541E2      3.066810E2     -3.713645E0      3.282136E3     5.217843E-1       633259            0         1551            0            7            0            0            0 WFPC2,3,A2D7,LRF#4877.0,,CAL                        3.372288E-16     -2.110000E1      4.884255E3      2.021006E1     1.109185E-2     6.184989E-2      1.003236E0      2.821703E1      1.669304E0     3.472891E-1     3.272150E-1     6.145074E-1     7.027547E-1     5.681439E-1     4.761558E-1      1.8265002235500000E2      3.9389460441680004E1      4.230000E2      4.210000E2     2.753580E-5    -2.509310E-6    -2.506890E-6    -2.756240E-5     -7.241166E1      3.420240E3 T     -1.747980E2            0            0      5.1229799078999995E4      5.1229799245999991E4 RA---TAN DEC--TAN            4      3.117072E2      3.117648E2      3.116496E2     -3.289304E0      3.420240E3     7.084697E-1       628289            0         1816            0           57            0            0            0 WFPC2,4,A2D7,LRF#4877.0,,CAL                        3.464660E-16     -2.110000E1      4.884256E3      2.020999E1    -6.813275E-2    -3.253493E-2     9.846212E-1     -4.591252E0     1.359666E-1     4.015671E-2     1.129934E-1      1.897491E0     9.687142E-1      1.053770E0     3.466465E-1                                                                                                                                                                                                                                                                                                                                                                                                                                                                                                                                                                                                                                                                                                                                                                                                                                                                                                                                                                                                                                                                                                                                                                                                                                                                                                                                                                                                                                                                                                                                                                                                                                                                                                                                                                                                                                                                                                                                                                                                                                                                                                                                                                                                                                                                                                                                                                                                                                                                                                                                                                                                                                                                                 '"
      ]
     },
     "execution_count": 27,
     "metadata": {},
     "output_type": "execute_result"
    }
   ],
   "source": [
    "data_second_hdu[800: ]"
   ]
  },
  {
   "cell_type": "code",
   "execution_count": 28,
   "metadata": {},
   "outputs": [
    {
     "data": {
      "text/plain": [
       "XTENSION= 'TABLE   '           / Ascii table extension                          \n",
       "BITPIX  =                    8 / 8-bits per 'pixels'                            \n",
       "NAXIS   =                    2 / Simple 2-D matrix                              \n",
       "NAXIS1  =                  796 / Number of characters per row                   \n",
       "NAXIS2  =                    4 / The number of rows                             \n",
       "PCOUNT  =                    0 / No 'random' parameters                         \n",
       "GCOUNT  =                    1 / Only one group                                 \n",
       "TFIELDS =                   49 / Number of fields per row                       \n",
       "EXTNAME = 'u5780205r_cvt.c0h.tab' / Name of table                               \n",
       "                                                                                \n",
       "TTYPE1  = 'CRVAL1  '           /                                                \n",
       "TBCOL1  =                    1 /                                                \n",
       "TFORM1  = 'D25.17  '           /                                                \n",
       "TUNIT1  = '        '           /                                                \n",
       "TDISP1  = 'G25.16  '           / %25.16g                                        \n",
       "                                                                                \n",
       "TTYPE2  = 'CRVAL2  '           /                                                \n",
       "TBCOL2  =                   27 /                                                \n",
       "TFORM2  = 'D25.17  '           /                                                \n",
       "TUNIT2  = '        '           /                                                \n",
       "TDISP2  = 'G25.16  '           / %25.16g                                        \n",
       "                                                                                \n",
       "TTYPE3  = 'CRPIX1  '           /                                                \n",
       "TBCOL3  =                   53 /                                                \n",
       "TFORM3  = 'E15.7   '           /                                                \n",
       "TUNIT3  = '        '           /                                                \n",
       "TDISP3  = 'G15.7   '           / %15.7g                                         \n",
       "                                                                                \n",
       "TTYPE4  = 'CRPIX2  '           /                                                \n",
       "TBCOL4  =                   69 /                                                \n",
       "TFORM4  = 'E15.7   '           /                                                \n",
       "TUNIT4  = '        '           /                                                \n",
       "TDISP4  = 'G15.7   '           / %15.7g                                         \n",
       "                                                                                \n",
       "TTYPE5  = 'CD1_1   '           /                                                \n",
       "TBCOL5  =                   85 /                                                \n",
       "TFORM5  = 'E15.7   '           /                                                \n",
       "TUNIT5  = '        '           /                                                \n",
       "TDISP5  = 'G15.7   '           / %15.7g                                         \n",
       "                                                                                \n",
       "TTYPE6  = 'CD1_2   '           /                                                \n",
       "TBCOL6  =                  101 /                                                \n",
       "TFORM6  = 'E15.7   '           /                                                \n",
       "TUNIT6  = '        '           /                                                \n",
       "TDISP6  = 'G15.7   '           / %15.7g                                         \n",
       "                                                                                \n",
       "TTYPE7  = 'CD2_1   '           /                                                \n",
       "TBCOL7  =                  117 /                                                \n",
       "TFORM7  = 'E15.7   '           /                                                \n",
       "TUNIT7  = '        '           /                                                \n",
       "TDISP7  = 'G15.7   '           / %15.7g                                         \n",
       "                                                                                \n",
       "TTYPE8  = 'CD2_2   '           /                                                \n",
       "TBCOL8  =                  133 /                                                \n",
       "TFORM8  = 'E15.7   '           /                                                \n",
       "TUNIT8  = '        '           /                                                \n",
       "TDISP8  = 'G15.7   '           / %15.7g                                         \n",
       "                                                                                \n",
       "TTYPE9  = 'DATAMIN '           /                                                \n",
       "TBCOL9  =                  149 /                                                \n",
       "TFORM9  = 'E15.7   '           /                                                \n",
       "TUNIT9  = '        '           /                                                \n",
       "TDISP9  = 'G15.7   '           / %15.7g                                         \n",
       "                                                                                \n",
       "TTYPE10 = 'DATAMAX '           /                                                \n",
       "TBCOL10 =                  165 /                                                \n",
       "TFORM10 = 'E15.7   '           /                                                \n",
       "TUNIT10 = '        '           /                                                \n",
       "TDISP10 = 'G15.7   '           / %15.7g                                         \n",
       "                                                                                \n",
       "TTYPE11 = 'MIR_REVR'           /                                                \n",
       "TBCOL11 =                  181 /                                                \n",
       "TFORM11 = 'A1      '           /                                                \n",
       "TUNIT11 = 'LOGICAL-'           /                                                \n",
       "TDISP11 = 'L1      '           / %1b                                            \n",
       "                                                                                \n",
       "TTYPE12 = 'ORIENTAT'           /                                                \n",
       "TBCOL12 =                  183 /                                                \n",
       "TFORM12 = 'E15.7   '           /                                                \n",
       "TUNIT12 = '        '           /                                                \n",
       "TDISP12 = 'G15.7   '           / %15.7g                                         \n",
       "                                                                                \n",
       "TTYPE13 = 'FILLCNT '           /                                                \n",
       "TBCOL13 =                  199 /                                                \n",
       "TFORM13 = 'I12     '           /                                                \n",
       "TUNIT13 = '        '           /                                                \n",
       "TDISP13 = 'I11     '           / %11d                                           \n",
       "                                                                                \n",
       "TTYPE14 = 'ERRCNT  '           /                                                \n",
       "TBCOL14 =                  212 /                                                \n",
       "TFORM14 = 'I12     '           /                                                \n",
       "TUNIT14 = '        '           /                                                \n",
       "TDISP14 = 'I11     '           / %11d                                           \n",
       "                                                                                \n",
       "TTYPE15 = 'FPKTTIME'           /                                                \n",
       "TBCOL15 =                  225 /                                                \n",
       "TFORM15 = 'D25.17  '           /                                                \n",
       "TUNIT15 = '        '           /                                                \n",
       "TDISP15 = 'G25.16  '           / %25.16g                                        \n",
       "                                                                                \n",
       "TTYPE16 = 'LPKTTIME'           /                                                \n",
       "TBCOL16 =                  251 /                                                \n",
       "TFORM16 = 'D25.17  '           /                                                \n",
       "TUNIT16 = '        '           /                                                \n",
       "TDISP16 = 'G25.16  '           / %25.16g                                        \n",
       "                                                                                \n",
       "TTYPE17 = 'CTYPE1  '           /                                                \n",
       "TBCOL17 =                  277 /                                                \n",
       "TFORM17 = 'A8      '           /                                                \n",
       "TUNIT17 = 'CHARACTER*8'        /                                                \n",
       "TDISP17 = 'A8      '           / %-8s                                           \n",
       "                                                                                \n",
       "TTYPE18 = 'CTYPE2  '           /                                                \n",
       "TBCOL18 =                  286 /                                                \n",
       "TFORM18 = 'A8      '           /                                                \n",
       "TUNIT18 = 'CHARACTER*8'        /                                                \n",
       "TDISP18 = 'A8      '           / %-8s                                           \n",
       "                                                                                \n",
       "TTYPE19 = 'DETECTOR'           /                                                \n",
       "TBCOL19 =                  295 /                                                \n",
       "TFORM19 = 'I12     '           /                                                \n",
       "TUNIT19 = '        '           /                                                \n",
       "TDISP19 = 'I11     '           / %11d                                           \n",
       "                                                                                \n",
       "TTYPE20 = 'DEZERO  '           /                                                \n",
       "TBCOL20 =                  308 /                                                \n",
       "TFORM20 = 'E15.7   '           /                                                \n",
       "TUNIT20 = '        '           /                                                \n",
       "TDISP20 = 'G15.7   '           / %15.7g                                         \n",
       "                                                                                \n",
       "TTYPE21 = 'BIASEVEN'           /                                                \n",
       "TBCOL21 =                  324 /                                                \n",
       "TFORM21 = 'E15.7   '           /                                                \n",
       "TUNIT21 = '        '           /                                                \n",
       "TDISP21 = 'G15.7   '           / %15.7g                                         \n",
       "                                                                                \n",
       "TTYPE22 = 'BIASODD '           /                                                \n",
       "TBCOL22 =                  340 /                                                \n",
       "TFORM22 = 'E15.7   '           /                                                \n",
       "TUNIT22 = '        '           /                                                \n",
       "TDISP22 = 'G15.7   '           / %15.7g                                         \n",
       "                                                                                \n",
       "TTYPE23 = 'GOODMIN '           /                                                \n",
       "TBCOL23 =                  356 /                                                \n",
       "TFORM23 = 'E15.7   '           /                                                \n",
       "TUNIT23 = '        '           /                                                \n",
       "TDISP23 = 'G15.7   '           / %15.7g                                         \n",
       "                                                                                \n",
       "TTYPE24 = 'GOODMAX '           /                                                \n",
       "TBCOL24 =                  372 /                                                \n",
       "TFORM24 = 'E15.7   '           /                                                \n",
       "TUNIT24 = '        '           /                                                \n",
       "TDISP24 = 'G15.7   '           / %15.7g                                         \n",
       "                                                                                \n",
       "TTYPE25 = 'DATAMEAN'           /                                                \n",
       "TBCOL25 =                  388 /                                                \n",
       "TFORM25 = 'E15.7   '           /                                                \n",
       "TUNIT25 = '        '           /                                                \n",
       "TDISP25 = 'G15.7   '           / %15.7g                                         \n",
       "                                                                                \n",
       "TTYPE26 = 'GPIXELS '           /                                                \n",
       "TBCOL26 =                  404 /                                                \n",
       "TFORM26 = 'I12     '           /                                                \n",
       "TUNIT26 = '        '           /                                                \n",
       "TDISP26 = 'I11     '           / %11d                                           \n",
       "                                                                                \n",
       "TTYPE27 = 'SOFTERRS'           /                                                \n",
       "TBCOL27 =                  417 /                                                \n",
       "TFORM27 = 'I12     '           /                                                \n",
       "TUNIT27 = '        '           /                                                \n",
       "TDISP27 = 'I11     '           / %11d                                           \n",
       "                                                                                \n",
       "TTYPE28 = 'CALIBDEF'           /                                                \n",
       "TBCOL28 =                  430 /                                                \n",
       "TFORM28 = 'I12     '           /                                                \n",
       "TUNIT28 = '        '           /                                                \n",
       "TDISP28 = 'I11     '           / %11d                                           \n",
       "                                                                                \n",
       "TTYPE29 = 'STATICD '           /                                                \n",
       "TBCOL29 =                  443 /                                                \n",
       "TFORM29 = 'I12     '           /                                                \n",
       "TUNIT29 = '        '           /                                                \n",
       "TDISP29 = 'I11     '           / %11d                                           \n",
       "                                                                                \n",
       "TTYPE30 = 'ATODSAT '           /                                                \n",
       "TBCOL30 =                  456 /                                                \n",
       "TFORM30 = 'I12     '           /                                                \n",
       "TUNIT30 = '        '           /                                                \n",
       "TDISP30 = 'I11     '           / %11d                                           \n",
       "                                                                                \n",
       "TTYPE31 = 'DATALOST'           /                                                \n",
       "TBCOL31 =                  469 /                                                \n",
       "TFORM31 = 'I12     '           /                                                \n",
       "TUNIT31 = '        '           /                                                \n",
       "TDISP31 = 'I11     '           / %11d                                           \n",
       "                                                                                \n",
       "TTYPE32 = 'BADPIXEL'           /                                                \n",
       "TBCOL32 =                  482 /                                                \n",
       "TFORM32 = 'I12     '           /                                                \n",
       "TUNIT32 = '        '           /                                                \n",
       "TDISP32 = 'I11     '           / %11d                                           \n",
       "                                                                                \n",
       "TTYPE33 = 'OVERLAP '           /                                                \n",
       "TBCOL33 =                  495 /                                                \n",
       "TFORM33 = 'I12     '           /                                                \n",
       "TUNIT33 = '        '           /                                                \n",
       "TDISP33 = 'I11     '           / %11d                                           \n",
       "                                                                                \n",
       "TTYPE34 = 'PHOTMODE'           /                                                \n",
       "TBCOL34 =                  508 /                                                \n",
       "TFORM34 = 'A48     '           /                                                \n",
       "TUNIT34 = 'CHARACTER*48'       /                                                \n",
       "TDISP34 = 'A48     '           / %-48s                                          \n",
       "                                                                                \n",
       "TTYPE35 = 'PHOTFLAM'           /                                                \n",
       "TBCOL35 =                  557 /                                                \n",
       "TFORM35 = 'E15.7   '           /                                                \n",
       "TUNIT35 = '        '           /                                                \n",
       "TDISP35 = 'G15.7   '           / %15.7g                                         \n",
       "                                                                                \n",
       "TTYPE36 = 'PHOTZPT '           /                                                \n",
       "TBCOL36 =                  573 /                                                \n",
       "TFORM36 = 'E15.7   '           /                                                \n",
       "TUNIT36 = '        '           /                                                \n",
       "TDISP36 = 'G15.7   '           / %15.7g                                         \n",
       "                                                                                \n",
       "TTYPE37 = 'PHOTPLAM'           /                                                \n",
       "TBCOL37 =                  589 /                                                \n",
       "TFORM37 = 'E15.7   '           /                                                \n",
       "TUNIT37 = '        '           /                                                \n",
       "TDISP37 = 'G15.7   '           / %15.7g                                         \n",
       "                                                                                \n",
       "TTYPE38 = 'PHOTBW  '           /                                                \n",
       "TBCOL38 =                  605 /                                                \n",
       "TFORM38 = 'E15.7   '           /                                                \n",
       "TUNIT38 = '        '           /                                                \n",
       "TDISP38 = 'G15.7   '           / %15.7g                                         \n",
       "                                                                                \n",
       "TTYPE39 = 'MEDIAN  '           /                                                \n",
       "TBCOL39 =                  621 /                                                \n",
       "TFORM39 = 'E15.7   '           /                                                \n",
       "TUNIT39 = '        '           /                                                \n",
       "TDISP39 = 'G15.7   '           / %15.7g                                         \n",
       "                                                                                \n",
       "TTYPE40 = 'MEDSHADO'           /                                                \n",
       "TBCOL40 =                  637 /                                                \n",
       "TFORM40 = 'E15.7   '           /                                                \n",
       "TUNIT40 = '        '           /                                                \n",
       "TDISP40 = 'G15.7   '           / %15.7g                                         \n",
       "                                                                                \n",
       "TTYPE41 = 'HISTWIDE'           /                                                \n",
       "TBCOL41 =                  653 /                                                \n",
       "TFORM41 = 'E15.7   '           /                                                \n",
       "TUNIT41 = '        '           /                                                \n",
       "TDISP41 = 'G15.7   '           / %15.7g                                         \n",
       "                                                                                \n",
       "TTYPE42 = 'SKEWNESS'           /                                                \n",
       "TBCOL42 =                  669 /                                                \n",
       "TFORM42 = 'E15.7   '           /                                                \n",
       "TUNIT42 = '        '           /                                                \n",
       "TDISP42 = 'G15.7   '           / %15.7g                                         \n",
       "                                                                                \n",
       "TTYPE43 = 'MEANC10 '           /                                                \n",
       "TBCOL43 =                  685 /                                                \n",
       "TFORM43 = 'E15.7   '           /                                                \n",
       "TUNIT43 = '        '           /                                                \n",
       "TDISP43 = 'G15.7   '           / %15.7g                                         \n",
       "                                                                                \n",
       "TTYPE44 = 'MEANC25 '           /                                                \n",
       "TBCOL44 =                  701 /                                                \n",
       "TFORM44 = 'E15.7   '           /                                                \n",
       "TUNIT44 = '        '           /                                                \n",
       "TDISP44 = 'G15.7   '           / %15.7g                                         \n",
       "                                                                                \n",
       "TTYPE45 = 'MEANC50 '           /                                                \n",
       "TBCOL45 =                  717 /                                                \n",
       "TFORM45 = 'E15.7   '           /                                                \n",
       "TUNIT45 = '        '           /                                                \n",
       "TDISP45 = 'G15.7   '           / %15.7g                                         \n",
       "                                                                                \n",
       "TTYPE46 = 'MEANC100'           /                                                \n",
       "TBCOL46 =                  733 /                                                \n",
       "TFORM46 = 'E15.7   '           /                                                \n",
       "TUNIT46 = '        '           /                                                \n",
       "TDISP46 = 'G15.7   '           / %15.7g                                         \n",
       "                                                                                \n",
       "TTYPE47 = 'MEANC200'           /                                                \n",
       "TBCOL47 =                  749 /                                                \n",
       "TFORM47 = 'E15.7   '           /                                                \n",
       "TUNIT47 = '        '           /                                                \n",
       "TDISP47 = 'G15.7   '           / %15.7g                                         \n",
       "                                                                                \n",
       "TTYPE48 = 'MEANC300'           /                                                \n",
       "TBCOL48 =                  765 /                                                \n",
       "TFORM48 = 'E15.7   '           /                                                \n",
       "TUNIT48 = '        '           /                                                \n",
       "TDISP48 = 'G15.7   '           / %15.7g                                         \n",
       "                                                                                \n",
       "TTYPE49 = 'BACKGRND'           /                                                \n",
       "TBCOL49 =                  781 /                                                \n",
       "TFORM49 = 'E15.7   '           /                                                \n",
       "TUNIT49 = '        '           /                                                \n",
       "TDISP49 = 'G15.7   '           / %15.7g                                         \n",
       "                                                                                \n",
       "CRVAL1  = 'right ascension of reference pixel (deg)' /                          \n",
       "CRVAL2  = 'declination of reference pixel (deg)' /                              \n",
       "CRPIX1  = 'x-coordinate of reference pixel' /                                   \n",
       "CRPIX2  = 'y-coordinate of reference pixel' /                                   \n",
       "CD1_1   = 'partial of the right ascension w.r.t. x' /                           \n",
       "CD1_2   = 'partial of the right ascension w.r.t. y' /                           \n",
       "CD2_1   = 'partial of the declination w.r.t. x' /                               \n",
       "CD2_2   = 'partial of the declination w.r.t. y' /                               \n",
       "DATAMIN = 'minimum value of the data' /                                         \n",
       "DATAMAX = 'maximum value of the data' /                                         \n",
       "MIR_REVR= 'is the image mirror reversed?' /                                     \n",
       "ORIENTAT= 'orientation of the image (deg)' /                                    \n",
       "FILLCNT = 'number of segments containing fill' /                                \n",
       "ERRCNT  = 'number of segments containing errors' /                              \n",
       "FPKTTIME= 'time of the first packet (Modified Julian Date)' /                   \n",
       "LPKTTIME= 'time of the last packet (Modified Julian Date)' /                    \n",
       "CTYPE1  = 'first coordinate type' /                                             \n",
       "CTYPE2  = 'second coordinate type' /                                            \n",
       "DETECTOR= 'CCD detector: PC 1, WFC 2-4' /                                       \n",
       "DEZERO  = 'mean bias level from EED extended register' /                        \n",
       "BIASEVEN= 'bias level for even-numbered columns' /                              \n",
       "BIASODD = 'bias level for odd-numbered columns' /                               \n",
       "GOODMIN = 'minimum value of the \"good\" pixels' /                                \n",
       "GOODMAX = 'maximum value of the \"good\" pixels' /                                \n",
       "DATAMEAN= 'mean value of the \"good\" pixels' /                                   \n",
       "GPIXELS = 'number of \"good\" pixels (DQF = 0)' /                                 \n",
       "SOFTERRS= 'number of \"soft error\" pixels (DQF = 1)' /                           \n",
       "CALIBDEF= 'number of \"calibration defect\" pixels (DQF = 2)' /                   \n",
       "STATICD = 'number of \"static defect\" pixels (DQF = 4)' /                        \n",
       "ATODSAT = 'number of \"AtoD saturated\" pixels (DQF = 8)' /                       \n",
       "DATALOST= 'number of \"data lost\" pixels (DQF = 16)' /                           \n",
       "BADPIXEL= 'number of \"generic bad\" pixels (DQF = 32)' /                         \n",
       "OVERLAP = 'number of \"image overlap\" pixels (DQF = 64)' /                       \n",
       "PHOTMODE= 'Photometry mode'    /                                                \n",
       "PHOTFLAM= 'Inverse Sensitivity' /                                               \n",
       "PHOTZPT = 'Zero point'         /                                                \n",
       "PHOTPLAM= 'Pivot wavelength'   /                                                \n",
       "PHOTBW  = 'RMS bandwidth of the filter' /                                       \n",
       "MEDIAN  = 'middle data value when good qual pixels sorted' /                    \n",
       "MEDSHADO= 'median pixel value in shadow of pyramid edge' /                      \n",
       "HISTWIDE= 'width of the histogram' /                                            \n",
       "SKEWNESS= 'skewness of the histogram' /                                         \n",
       "MEANC10 = 'mean of a 10x10 region at center of chip' /                          \n",
       "MEANC25 = 'mean of a 25x25 region at center of chip' /                          \n",
       "MEANC50 = 'mean of a 50x50 region at center of chip' /                          \n",
       "MEANC100= 'mean of a 100x100 region at center of chip' /                        \n",
       "MEANC200= 'mean of a 200x200 region at center of chip' /                        \n",
       "MEANC300= 'mean of a 300x300 region at center of chip' /                        \n",
       "BACKGRND= 'estimated background level' /                                        "
      ]
     },
     "execution_count": 28,
     "metadata": {},
     "output_type": "execute_result"
    }
   ],
   "source": [
    "hdus[1].header"
   ]
  },
  {
   "cell_type": "code",
   "execution_count": 53,
   "metadata": {},
   "outputs": [],
   "source": [
    "t = Table.read(\"../tests/data/outputs/test_table.fits\")"
   ]
  },
  {
   "cell_type": "code",
   "execution_count": 54,
   "metadata": {},
   "outputs": [
    {
     "data": {
      "text/html": [
       "<div><i>Table length=4</i>\n",
       "<table id=\"table4702261792\" class=\"table-striped table-bordered table-condensed\">\n",
       "<thead><tr><th>CRVAL1</th><th>CRVAL2</th><th>CRPIX1</th><th>CRPIX2</th><th>CD1_1</th><th>CD1_2</th><th>CD2_1</th><th>CD2_2</th><th>DATAMIN</th><th>DATAMAX</th><th>MIR_REVR</th><th>ORIENTAT</th><th>FILLCNT</th><th>ERRCNT</th><th>FPKTTIME</th><th>LPKTTIME</th><th>CTYPE1</th><th>CTYPE2</th><th>DETECTOR</th><th>DEZERO</th><th>BIASEVEN</th><th>BIASODD</th><th>GOODMIN</th><th>GOODMAX</th><th>DATAMEAN</th><th>GPIXELS</th><th>SOFTERRS</th><th>CALIBDEF</th><th>STATICD</th><th>ATODSAT</th><th>DATALOST</th><th>BADPIXEL</th><th>OVERLAP</th><th>PHOTMODE</th><th>PHOTFLAM</th><th>PHOTZPT</th><th>PHOTPLAM</th><th>PHOTBW</th><th>MEDIAN</th><th>MEDSHADO</th><th>HISTWIDE</th><th>SKEWNESS</th><th>MEANC10</th><th>MEANC25</th><th>MEANC50</th><th>MEANC100</th><th>MEANC200</th><th>MEANC300</th><th>BACKGRND</th></tr></thead>\n",
       "<thead><tr><th>float64</th><th>float64</th><th>float64</th><th>float64</th><th>float64</th><th>float64</th><th>float64</th><th>float64</th><th>float64</th><th>float64</th><th>bytes48</th><th>float64</th><th>int64</th><th>int64</th><th>float64</th><th>float64</th><th>bytes48</th><th>bytes48</th><th>int64</th><th>float64</th><th>float64</th><th>float64</th><th>float64</th><th>float64</th><th>float64</th><th>int64</th><th>int64</th><th>int64</th><th>int64</th><th>int64</th><th>int64</th><th>int64</th><th>int64</th><th>bytes48</th><th>float64</th><th>float64</th><th>float64</th><th>float64</th><th>float64</th><th>float64</th><th>float64</th><th>float64</th><th>float64</th><th>float64</th><th>float64</th><th>float64</th><th>float64</th><th>float64</th><th>float64</th></tr></thead>\n",
       "<tr><td>182.6311886308</td><td>39.39633673411</td><td>420.0</td><td>424.5</td><td>-1.06704e-06</td><td>-1.25958e-05</td><td>-1.26016e-05</td><td>1.06655e-06</td><td>-73.19537</td><td>3777.701</td><td>T</td><td>-85.16</td><td>0</td><td>0</td><td>51229.798573999986</td><td>51229.798742000006</td><td>RA---TAN</td><td>DEC--TAN</td><td>1</td><td>316.6452</td><td>316.6715</td><td>316.6189</td><td>-5.064006</td><td>2552.17</td><td>0.4182382</td><td>632387</td><td>0</td><td>1466</td><td>0</td><td>16</td><td>0</td><td>0</td><td>0</td><td>WFPC2,1,A2D7,LRF#4877.0,,CAL</td><td>3.44746e-16</td><td>-21.1</td><td>4884.258</td><td>20.20996</td><td>-0.175651</td><td>-0.121681</td><td>1.033711</td><td>-1.983727</td><td>0.12958</td><td>0.3129676</td><td>0.4577668</td><td>0.3916293</td><td>0.3115222</td><td>0.3295493</td><td>-0.3676353</td></tr>\n",
       "<tr><td>182.6255233634</td><td>39.41214313815</td><td>423.5</td><td>414.0</td><td>-2.75605e-05</td><td>2.08221e-06</td><td>2.08021e-06</td><td>2.75871e-05</td><td>-19.95751</td><td>3740.623</td><td>T</td><td>4.31638</td><td>0</td><td>0</td><td>51229.798742000006</td><td>51229.79891000002</td><td>RA---TAN</td><td>DEC--TAN</td><td>2</td><td>354.0573</td><td>354.0761</td><td>354.0386</td><td>-3.379329</td><td>3720.573</td><td>0.6385469</td><td>631340</td><td>0</td><td>2072</td><td>0</td><td>25</td><td>0</td><td>0</td><td>0</td><td>WFPC2,2,A2D7,LRF#4877.0,,CAL</td><td>3.382652e-16</td><td>-21.1</td><td>4884.261</td><td>20.20992</td><td>-0.1896807</td><td>-0.1899146</td><td>1.053666</td><td>-1.947547</td><td>0.2564496</td><td>0.1057321</td><td>0.9952926</td><td>0.8409855</td><td>0.6534808</td><td>0.5836062</td><td>0.2101429</td></tr>\n",
       "<tr><td>182.6523792305</td><td>39.410944281389995</td><td>436.0</td><td>424.5</td><td>2.23913e-06</td><td>2.75426e-05</td><td>2.75684e-05</td><td>-2.23704e-06</td><td>-58.53249</td><td>3282.136</td><td>T</td><td>94.6434</td><td>0</td><td>0</td><td>51229.79891000002</td><td>51229.799078</td><td>RA---TAN</td><td>DEC--TAN</td><td>3</td><td>306.6676</td><td>306.6541</td><td>306.681</td><td>-3.713645</td><td>3282.136</td><td>0.5217843</td><td>633259</td><td>0</td><td>1551</td><td>0</td><td>7</td><td>0</td><td>0</td><td>0</td><td>WFPC2,3,A2D7,LRF#4877.0,,CAL</td><td>3.372288e-16</td><td>-21.1</td><td>4884.255</td><td>20.21006</td><td>0.01109185</td><td>0.06184989</td><td>1.003236</td><td>28.21703</td><td>1.669304</td><td>0.3472891</td><td>0.327215</td><td>0.6145074</td><td>0.7027547</td><td>0.5681439</td><td>0.4761558</td></tr>\n",
       "<tr><td>182.650022355</td><td>39.38946044168</td><td>423.0</td><td>421.0</td><td>2.75358e-05</td><td>-2.50931e-06</td><td>-2.50689e-06</td><td>-2.75624e-05</td><td>-72.41166</td><td>3420.24</td><td>T</td><td>-174.798</td><td>0</td><td>0</td><td>51229.799079</td><td>51229.79924599999</td><td>RA---TAN</td><td>DEC--TAN</td><td>4</td><td>311.7072</td><td>311.7648</td><td>311.6496</td><td>-3.289304</td><td>3420.24</td><td>0.7084697</td><td>628289</td><td>0</td><td>1816</td><td>0</td><td>57</td><td>0</td><td>0</td><td>0</td><td>WFPC2,4,A2D7,LRF#4877.0,,CAL</td><td>3.46466e-16</td><td>-21.1</td><td>4884.256</td><td>20.20999</td><td>-0.06813275</td><td>-0.03253493</td><td>0.9846212</td><td>-4.591252</td><td>0.1359666</td><td>0.04015671</td><td>0.1129934</td><td>1.897491</td><td>0.9687142</td><td>1.05377</td><td>0.3466465</td></tr>\n",
       "</table></div>"
      ],
      "text/plain": [
       "<Table length=4>\n",
       "    CRVAL1           CRVAL2        CRPIX1 ...  MEANC200  MEANC300  BACKGRND \n",
       "   float64          float64       float64 ...  float64   float64   float64  \n",
       "-------------- ------------------ ------- ... --------- --------- ----------\n",
       "182.6311886308     39.39633673411   420.0 ... 0.3115222 0.3295493 -0.3676353\n",
       "182.6255233634     39.41214313815   423.5 ... 0.6534808 0.5836062  0.2101429\n",
       "182.6523792305 39.410944281389995   436.0 ... 0.7027547 0.5681439  0.4761558\n",
       " 182.650022355     39.38946044168   423.0 ... 0.9687142   1.05377  0.3466465"
      ]
     },
     "execution_count": 54,
     "metadata": {},
     "output_type": "execute_result"
    }
   ],
   "source": [
    "t"
   ]
  },
  {
   "cell_type": "code",
   "execution_count": 36,
   "metadata": {},
   "outputs": [
    {
     "data": {
      "text/plain": [
       "b'     1.8262552336340000E2      3.9412143138150002E1      4.235000E2      4.140000E2    -2.756050E-5     2.082210E-6     2.080210E-6     2.758710E-5     -1.995751E1      3.740623E3 T      4.316380E0            0            0      5.1229798742000003E4      5.1229798910000017E4 RA---TAN DEC--TAN            2      3.540573E2      3.540761E2      3.540386E2     -3.379329E0      3.720573E3     6.385469E-1       631340            0         2072            0           25            0            0            0 WFPC2,2,A2D7,LRF#4877.0,,CAL                        3.382652E-16     -2.110000E1      4.884261E3      2.020992E1    -1.896807E-1    -1.899146E-1      1.053666E0     -1.947547E0     2.564496E-1     1.057321E-1     9.952926E-1     8.409855E-1     6.534808E-1     5.836062E-1     2.101429E-1      1.8265237923050001E2      3.9410944281389994E1      4.360000E2      4.245000E2     2.239130E-6     2.754260E-5     2.756840E-5    -2.237040E-6     -5.853249E1      3.282136E3 T      9.464340E1            0            0      5.1229798910000017E4      5.1229799077999995E4 RA---TAN DEC--TAN            3      3.066676E2      3.066541E2      3.066810E2     -3.713645E0      3.282136E3     5.217843E-1       633259            0         1551            0            7            0            0            0 WFPC2,3,A2D7,LRF#4877.0,,CAL                        3.372288E-16     -2.110000E1      4.884255E3      2.021006E1     1.109185E-2     6.184989E-2      1.003236E0      2.821703E1      1.669304E0     3.472891E-1     3.272150E-1     6.145074E-1     7.027547E-1     5.681439E-1     4.761558E-1      1.8265002235500000E2      3.9389460441680004E1      4.230000E2      4.210000E2     2.753580E-5    -2.509310E-6    -2.506890E-6    -2.756240E-5     -7.241166E1      3.420240E3 T     -1.747980E2            0            0      5.1229799078999995E4      5.1229799245999991E4 RA---TAN DEC--TAN            4      3.117072E2      3.117648E2      3.116496E2     -3.289304E0      3.420240E3     7.084697E-1       628289            0         1816            0           57            0            0            0 WFPC2,4,A2D7,LRF#4877.0,,CAL                        3.464660E-16     -2.110000E1      4.884256E3      2.020999E1    -6.813275E-2    -3.253493E-2     9.846212E-1     -4.591252E0     1.359666E-1     4.015671E-2     1.129934E-1      1.897491E0     9.687142E-1      1.053770E0     3.466465E-1                                                                                                                                                                                                                                                                                                                                                                                                                                                                                                                                                                                                                                                                                                                                                                                                                                                                                                                                                                                                                                                                                                                                                                                                                                                                                                                                                                                                                                                                                                                                                                                                                                                                                                                                                                                                                                                                                                                                                                                                                                                                                                                                                                                                                                                                                                                                                                                                                                                                                                                                                                                                                                                                                 '"
      ]
     },
     "execution_count": 36,
     "metadata": {},
     "output_type": "execute_result"
    }
   ],
   "source": [
    "data_second_hdu[796: ]"
   ]
  },
  {
   "cell_type": "code",
   "execution_count": 30,
   "metadata": {},
   "outputs": [
    {
     "data": {
      "text/plain": [
       "5760"
      ]
     },
     "execution_count": 30,
     "metadata": {},
     "output_type": "execute_result"
    }
   ],
   "source": [
    "len(\"\"\"SIMPLE  =                    T / FITS STANDARD                                  BITPIX  =                    8 / Character information                          NAXIS   =                    0 / No image data array present                    EXTEND  =                    T / There may be standard extensions               DATE    = '31/10/97'           / Date file was written (dd/mm/yy) 19yy          ORIGIN  = 'CEA/SSL UC Berkeley' / EUVE Science Archive                          CREATOR = 'STWFITS '           / Fitsio version 11-May-1995                     TELESCOP= 'EUVE    '           / Extreme Ultraviolet Explorer                   INSTTYPE= 'DS/S    '           / Instrument type (DS/S, SCANNER)                OBJECT  = 'NGC 4151'           / Name of observed object                        RA_OBJ  =     182.635454000001 / R.A. of the object (degrees)                   DEC_OBJ =     39.4057280000001 / Declination of the object (degrees)            RA_PNT  =     182.988000000001 / R.A. of the pointing direction (degrees)       DEC_PNT =              39.5477 / Declination of the pointing direction (degrees)RA_PROC =     182.637910000001 / R.A. used to process data (degrees)            DEC_PROC=             39.41343 / Declination used to process data (degrees)     OBSERVER= 'A. A. Zdziarski'    / Original observing P.I. (EUVE = calibration)   DATE-OBS= '30/04/97 GMT'       / Start date of observation (dd/mm/yy) 19yy      TIME-OBS= '23:51:30 GMT'       / Start time of observation (hh:mm:ss GMT)       DATE-END= '07/05/97 GMT'       / End date of observation (dd/mm/yy) 19yy        TIME-END= '09:34:27 GMT'       / End time of observation (hh:mm:ss GMT)         OBS_MODE= 'POINTING'           / Inertial pointing mode                         DITHER  = 'NONE    '           / Spacecraft dither type (DITHERED, SPIRAL, NONE)DETMODE = 'WSZ     '           / Detector position conversion mode (WSZ or XY)  OFF-AXIS=                    T / Was this pointing done off-axis                MOVING  =                    F / Did the source position vary during observationDAYNIGHT= 'NIGHT   '           / Day/night data indicator (DAY, NIGHT, BOTH)    VALIDTIM=      201378.81295777 / Amount of telemetry present (seconds)          RA_UNIT = 'deg     '           / Units for Right Ascension                      DEC_UNIT= 'deg     '           / Units for Declination                          EQUINOX =                2000. / Coordinate equinox                             RADECSYS= 'FK5     '           / Frame of reference of coordinates              TIMESYS = 'MJD     '           / MJD = JD - 2400000.5                           TIMEZERO=                   0. / No time offset required for EUVE event times   TIMEUNIT= 's       '           / Units for TSTART, TSTOP, TIMEZERO              CLOCKCOR= 'NO      '           / Not corrected to UT                            TIMEREF = 'LOCAL   '           / No corrections applied (barycentric, etc.)     TASSIGN = 'SATELLITE'          / Event times are assigned at the satellite      TSTART  =     913161090.048001 / Time of start of observation (seconds)         TSTOP   =     913714467.840001 / Time of end of observation (seconds)           MJDREF  =               40000. / MJD of SC clock start, 24.00 May 1968          EGOCSVER= 'egocs1.7.1'         / Software version used to produce this data     REFVERS = 'egodata1.15.1'      / Reference calibration dataset version used     COMMENT     ' '                                                                 COMMENT     'This file is part of the EUVE Science Archive. It contains'        COMMENT     'images and filter limits for one EUVE observation.'                COMMENT     ' '                                                                 COMMENT     'The EUVE Science Archive contains the science data from'           COMMENT     'observations performed with the EUVE telescopes. It forms one'     COMMENT     'part of the EUVE Permanent Archive. The other part of the'         COMMENT     'permanent archive is the EUVE Telemetry Archive, which is a'       COMMENT     'complete record of the raw telemetry from the EUVE mission.'       COMMENT     ' '                                                                 COMMENT     'For documentation of the contents of the EUVE Science Archive,'    COMMENT     'see the \"EUVE Science Archive User's Guide\".  The contents of'     COMMENT     'the EUVE Telemetry Archive are described in the \"EUVE'             COMMENT     'Telemetry Archive User's Guide\".'                                  COMMENT     ' '                                                                 COMMENT     'The EUVE Permanent Archive was produced by the Center for EUV'     COMMENT     'Astrophysics, a division of UC Berkeley's Space Science'           COMMENT     Laboratory.                                                         COMMENT     ' '                                                                 END                                                                                                                                                                                                                                                                                                                                                                                                                                                                                                                                                                                                                                                                                                                                                                                                                             \"\"\")"
   ]
  },
  {
   "cell_type": "code",
   "execution_count": 31,
   "metadata": {},
   "outputs": [
    {
     "data": {
      "text/plain": [
       "72.0"
      ]
     },
     "execution_count": 31,
     "metadata": {},
     "output_type": "execute_result"
    }
   ],
   "source": [
    "5760 / 80"
   ]
  },
  {
   "cell_type": "code",
   "execution_count": 49,
   "metadata": {},
   "outputs": [
    {
     "data": {
      "text/plain": [
       "923"
      ]
     },
     "execution_count": 49,
     "metadata": {},
     "output_type": "execute_result"
    }
   ],
   "source": [
    "fits.getheader(\"../tests/data/outputs/test_table.fits\", ext=1)['NAXIS1']"
   ]
  },
  {
   "cell_type": "code",
   "execution_count": 11,
   "metadata": {},
   "outputs": [],
   "source": [
    "my_data = open(\"../tests/data/outputs/test_bintable.fits\", \"rb\").read()[get_first_header_size(open(\"../tests/data/outputs/test_bintable.fits\", \"rb\").read()):]"
   ]
  },
  {
   "cell_type": "code",
   "execution_count": 15,
   "metadata": {},
   "outputs": [
    {
     "data": {
      "text/plain": [
       "XTENSION= 'BINTABLE' / Binary table extension                                   \n",
       "BITPIX  =                    8 / 8-bit bytes                                    \n",
       "NAXIS   =                    2 / 2-dimensional binary table                     \n",
       "PCOUNT  =                    0 / Size of special data area                      \n",
       "GCOUNT  =                    1 / Only one group                                 \n",
       "EXTNAME = 'ds_limits' / Name of table                                           \n",
       "ORIGIN  = 'CEA/SSL UC Berkeley' / EUVE Science Archive                          \n",
       "CREATOR = 'STWFITS ' / Fitsio version 11-May-1995                               \n",
       "TELESCOP= 'EUVE    ' / Extreme Ultraviolet Explorer                             \n",
       "INSTTYPE= 'DS/S    ' / Instrument type (DS/S, SCANNER)                          \n",
       "INSTRUME= 'DS/S    ' / Deep Survey - Spectrometer                               \n",
       "DETNAM  = 'DS      ' / Deep Survey                                              \n",
       "OBJECT  = 'NGC 4151' / Name of observed object                                  \n",
       "RA_OBJ  =    182.6354540000005 / R.A. of the object (degrees)                   \n",
       "DEC_OBJ =    39.40572800000015 / Declination of the object (degrees)            \n",
       "RA_PNT  =    182.9880000000006 / R.A. of the pointing direction (degrees)       \n",
       "DEC_PNT =              39.5477 / Declination of the pointing direction (degrees)\n",
       "RA_PROC =    182.6379100000007 / R.A. used to process data (degrees)            \n",
       "DEC_PROC=             39.41343 / Declination used to process data (degrees)     \n",
       "OBSERVER= 'A. A. Zdziarski' / Original observing P.I. (EUVE = calibration)      \n",
       "DATE-OBS= '30/04/97 GMT' / Start date of observation (dd/mm/yy) 19yy            \n",
       "TIME-OBS= '23:51:30 GMT' / Start time of observation (hh:mm:ss GMT)             \n",
       "DATE-END= '07/05/97 GMT' / End date of observation (dd/mm/yy) 19yy              \n",
       "TIME-END= '09:34:27 GMT' / End time of observation (hh:mm:ss GMT)               \n",
       "OBS_MODE= 'POINTING' / Inertial pointing mode                                   \n",
       "DITHER  = 'NONE    ' / Spacecraft dither type (DITHERED, SPIRAL, NONE)          \n",
       "DETMODE = 'WSZ     ' / Detector position conversion mode (WSZ or XY)            \n",
       "OFF-AXIS=                    T / Was this pointing done off-axis                \n",
       "MOVING  =                    F / Did the source position vary during observation\n",
       "DAYNIGHT= 'NIGHT   ' / Day/night data indicator (DAY, NIGHT, BOTH)              \n",
       "VALIDTIM=    201378.8129577704 / Amount of telemetry present (seconds)          \n",
       "RA_UNIT = 'deg     ' / Units for Right Ascension                                \n",
       "DEC_UNIT= 'deg     ' / Units for Declination                                    \n",
       "EQUINOX =                 2000 / Coordinate equinox                             \n",
       "RADECSYS= 'FK5     ' / Frame of reference of coordinates                        \n",
       "TIMESYS = 'MJD     ' / MJD = JD - 2400000.5                                     \n",
       "TIMEZERO=                    0 / No time offset required for EUVE event times   \n",
       "TIMEUNIT= 's       ' / Units for TSTART, TSTOP, TIMEZERO                        \n",
       "CLOCKCOR= 'NO      ' / Not corrected to UT                                      \n",
       "TIMEREF = 'LOCAL   ' / No corrections applied (barycentric, etc.)               \n",
       "TASSIGN = 'SATELLITE' / Event times are assigned at the satellite               \n",
       "TSTART  =    913161090.0480012 / Time of start of observation (seconds)         \n",
       "TSTOP   =    913714467.8400012 / Time of end of observation (seconds)           \n",
       "MJDREF  =                40000 / MJD of SC clock start, 24.00 May 1968          \n",
       "EGOCSVER= 'egocs1.7.1' / Software version used to produce this data             \n",
       "REFVERS = 'egodata1.15.1' / Reference calibration dataset version used          \n",
       "INHERIT =                    F / Do not inherit cards from the primary header   \n",
       "COMMENT     ' '                                                                 \n",
       "COMMENT     'This table contains the limits used to filter the Deep Survey'     \n",
       "COMMENT     'image for this observation. The image is in the extension'         \n",
       "COMMENT     'named \"ds\" in this file.'                                          \n",
       "COMMENT     ' '                                                                 \n",
       "TFIELDS =                    3 / Number of fields per row                       \n",
       "NAXIS1  =                    0 / Number of bytes in row                         \n",
       "NAXIS2  =                    3 / Number of rows                                 \n",
       "TTYPE1  = 'NAME    ' / Name of field                                            \n",
       "TFORM1  = '8A' / Format of field                                                \n",
       "TTYPE2  = 'LOW     ' / Name of field                                            \n",
       "TFORM2  = 'E' / Format of field                                                 \n",
       "TTYPE3  = 'HIGH    ' / Name of field                                            \n",
       "TFORM3  = 'E' / Format of field                                                 "
      ]
     },
     "execution_count": 15,
     "metadata": {},
     "output_type": "execute_result"
    }
   ],
   "source": [
    "fits.getheader(\"../tests/data/outputs/test_bintable.fits\", ext=1)"
   ]
  },
  {
   "cell_type": "code",
   "execution_count": 13,
   "metadata": {},
   "outputs": [
    {
     "data": {
      "text/plain": [
       "b'dsq1sf  '"
      ]
     },
     "execution_count": 13,
     "metadata": {},
     "output_type": "execute_result"
    }
   ],
   "source": [
    "my_data[0:8]"
   ]
  },
  {
   "cell_type": "code",
   "execution_count": 51,
   "metadata": {},
   "outputs": [
    {
     "data": {
      "text/plain": [
       "25"
      ]
     },
     "execution_count": 51,
     "metadata": {},
     "output_type": "execute_result"
    }
   ],
   "source": [
    "len(\"        1.826255233634E2 \")"
   ]
  },
  {
   "cell_type": "code",
   "execution_count": null,
   "metadata": {},
   "outputs": [],
   "source": []
  }
 ],
 "metadata": {
  "kernelspec": {
   "display_name": "base",
   "language": "python",
   "name": "python3"
  },
  "language_info": {
   "codemirror_mode": {
    "name": "ipython",
    "version": 3
   },
   "file_extension": ".py",
   "mimetype": "text/x-python",
   "name": "python",
   "nbconvert_exporter": "python",
   "pygments_lexer": "ipython3",
   "version": "3.9.12"
  }
 },
 "nbformat": 4,
 "nbformat_minor": 2
}
